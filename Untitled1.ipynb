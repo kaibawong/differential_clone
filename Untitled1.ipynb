{
 "cells": [
  {
   "cell_type": "code",
   "execution_count": 18,
   "metadata": {},
   "outputs": [
    {
     "data": {
      "application/vnd.jupyter.widget-view+json": {
       "model_id": "fecb5dccae174816951d9285c4fd8baf",
       "version_major": 2,
       "version_minor": 0
      },
      "text/plain": [
       "interactive(children=(IntSlider(value=100, description='EI_price', max=200), IntSlider(value=205, description=…"
      ]
     },
     "metadata": {},
     "output_type": "display_data"
    }
   ],
   "source": [
    "import pandas as pd\n",
    "import numpy as np\n",
    "import matplotlib.pyplot as plt  \n",
    "from sklearn.ensemble import RandomForestRegressor\n",
    "import ipywidgets as widgets\n",
    "from ipywidgets import interact\n",
    "from sklearn.cluster import KMeans\n",
    "from sklearn.preprocessing import StandardScaler\n",
    "from sklearn import linear_model\n",
    "import statsmodels.api as sm\n",
    "\n",
    "combi = pd.read_table('Historical_combi2.csv',delimiter =';')\n",
    "import datetime\n",
    "datetimes = [datetime.datetime.strptime(d, '%d.%m.%Y') for d in combi[\"Date\"]]\n",
    "\n",
    "\n",
    "df = pd.DataFrame(datetimes, columns=['date'])\n",
    "df.loc[:, 'date'] = pd.to_datetime(df['date'], format='%Y-%m-%d')\n",
    "combi = combi.assign(df=df['date'].values)\n",
    "\n",
    "\n",
    "@interact(EI_price=(0,200),capacity=(10,400),utilisation=(0,100),cooling =(0,100),maintenance=(0,100),disc=(0,20),\n",
    "          remuneration=(0,100),EI_consumption_switch=(0,100),model=['Bonny_light', 'Urals_NWE','Tapis'])\n",
    "\n",
    "\n",
    "       \n",
    "def NPV_Calc(EI_price,capacity,utilisation,cooling,maintenance,disc,remuneration,EI_consumption_switch,model):\n",
    "    \n",
    "    Bonny_light  ={'input': 'Brent'}\n",
    "    \n",
    "    if model == 'Bonny_light':\n",
    "             \n",
    "            \n",
    "        plt.rcParams['figure.dpi'] = 100\n",
    "\n",
    "        rma60 = combi[\"Bonny light\"].rolling(window=60).mean()\n",
    "        ema60 = combi[\"Bonny light\"].ewm(span=60, adjust=False).mean()\n",
    "        plt.plot(combi[\"df\"],combi[\"Bonny light\"])\n",
    "        plt.plot(combi[\"df\"],rma60)\n",
    "        plt.plot(combi[\"df\"],ema60)\n",
    "        plt.legend((\"Monthly\",\"rma\",\"ema\"))\n",
    "        plt.show()\n",
    "    elif model == 'Urals_NWE':\n",
    "        print('choose something') \n",
    "    else:\n",
    "        print('choose something')   \n",
    "\n",
    "        \n",
    "        \n",
    "    return\n",
    "\n",
    "\n",
    "\n"
   ]
  },
  {
   "cell_type": "code",
   "execution_count": null,
   "metadata": {},
   "outputs": [],
   "source": []
  }
 ],
 "metadata": {
  "kernelspec": {
   "display_name": "Python 3",
   "language": "python",
   "name": "python3"
  },
  "language_info": {
   "codemirror_mode": {
    "name": "ipython",
    "version": 3
   },
   "file_extension": ".py",
   "mimetype": "text/x-python",
   "name": "python",
   "nbconvert_exporter": "python",
   "pygments_lexer": "ipython3",
   "version": "3.7.3"
  }
 },
 "nbformat": 4,
 "nbformat_minor": 2
}
