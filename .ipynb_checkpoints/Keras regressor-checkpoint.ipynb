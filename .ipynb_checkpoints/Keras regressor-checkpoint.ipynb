{
 "cells": [
  {
   "cell_type": "code",
   "execution_count": 1,
   "metadata": {},
   "outputs": [
    {
     "name": "stdout",
     "output_type": "stream",
     "text": [
      "         Date  Dated Brent  Bonny light  Mars   WTI  Maya Europe  Maya USGC  \\\n",
      "0    1/1/2000         25.5          0.0   0.0   0.0          0.0        0.0   \n",
      "1    1/2/2000         27.9          0.0   0.0   0.0          0.0        0.0   \n",
      "2    1/3/2000         27.3          0.0   0.0   0.0          0.0        0.0   \n",
      "3    1/4/2000         22.6          0.0   0.0   0.0          0.0        0.0   \n",
      "4    1/5/2000         27.6          0.0   0.0   0.0          0.0        0.0   \n",
      "..        ...          ...          ...   ...   ...          ...        ...   \n",
      "231  1/4/2019         71.3          1.4  -2.3  -7.4         -9.8       -6.5   \n",
      "232  1/5/2019         71.1          1.9  -4.3 -10.3        -10.1       -8.4   \n",
      "233  1/6/2019         64.1          1.7  -4.6  -9.4         -8.1       -5.2   \n",
      "234  1/7/2019         64.0          1.4  -2.0  -6.5         -6.9       -4.1   \n",
      "235  1/8/2019         59.0          1.3  -1.9  -4.2        -12.6       -8.0   \n",
      "\n",
      "     ESPO  Urals NWE  Urals MED  ...   FO 0.5%    VGO 2%  Arab light  \\\n",
      "0     0.0       -0.5       -0.5  ...  0.000000  0.276573        1.00   \n",
      "1     0.0       -0.5       -0.5  ...  0.000000  1.195334        0.75   \n",
      "2     0.0       -1.0       -1.5  ...  0.000000  1.038289        0.75   \n",
      "3     0.0       -1.0       -1.4  ...  0.000000 -0.616742        0.75   \n",
      "4     0.0       -0.6       -1.2  ...  0.000000 -1.653571        0.50   \n",
      "..    ...        ...        ...  ...       ...       ...         ...   \n",
      "231   1.7       -0.1        0.4  ... -3.102314  3.919293       -1.90   \n",
      "232   0.5       -0.9       -0.2  ... -5.629664  4.786823       -0.80   \n",
      "233  -0.2       -2.7       -2.5  ... -0.835000  5.262463        0.00   \n",
      "234   2.3       -1.1       -0.5  ...  4.105514  5.853681       -1.10   \n",
      "235   4.2       -0.1        1.2  ... -0.952231  7.948248       -2.70   \n",
      "\n",
      "     Arab Heavy  Azeri BTC  Tapis  Dalia  Oman  Oseberg blend    ORL  \n",
      "0           0.0        0.0    0.2    0.0  -1.3          0.000  0.000  \n",
      "1           0.0        0.0   -0.4    0.0  -2.5          0.000  0.000  \n",
      "2           0.0        0.0    1.2    0.0  -1.6          0.000  0.000  \n",
      "3           0.0        0.0    2.7    0.0   0.1          0.000  0.000  \n",
      "4           0.0        0.0    1.1    0.0  -1.8          0.000  0.000  \n",
      "..          ...        ...    ...    ...   ...            ...    ...  \n",
      "231        -4.4        1.8    3.4    0.6  -0.1          1.080 -5.900  \n",
      "232        -3.5        1.5    2.7    0.1  -1.3          1.522 -5.820  \n",
      "233        -3.0        0.2    2.1   -0.3  -2.3          1.617 -6.375  \n",
      "234        -4.0        1.6    3.8    1.2  -0.3          0.786 -6.990  \n",
      "235        -5.5        2.9    4.4    2.0   0.7          0.683 -6.928  \n",
      "\n",
      "[236 rows x 32 columns]\n"
     ]
    }
   ],
   "source": [
    "import pandas as pd\n",
    "import numpy as np\n",
    "import matplotlib.pyplot as plt  \n",
    "\n",
    "combi = pd.read_table('Historical_combi2.csv',delimiter =',')\n",
    "\n",
    "combi=combi.fillna(0)\n",
    "print(combi)\n"
   ]
  },
  {
   "cell_type": "code",
   "execution_count": 2,
   "metadata": {},
   "outputs": [
    {
     "name": "stderr",
     "output_type": "stream",
     "text": [
      "Using TensorFlow backend.\n"
     ]
    }
   ],
   "source": [
    "import keras\n",
    "from keras.models import Sequential\n",
    "from keras.layers import Dense\n"
   ]
  },
  {
   "cell_type": "code",
   "execution_count": 16,
   "metadata": {},
   "outputs": [],
   "source": [
    "model = Sequential()\n",
    "\n",
    "#x_train=train_combi[[\"Dated Brent\",\"Jet\",\"ULSD\",\"VGO 2%\"]]\n",
    "\n",
    "X = combi[[\"Dated Brent\",\"Propane\",\"Gasoline\",\"Jet\",\"Gasoil\",\"FO 1%\",\"ULSD\",\"Naphtha\",\"Butane\",\"FO 3.5%\",\"VGO 0.5%\",\n",
    "           \"FO 0.5%\",\"VGO 2%\"]]\n",
    "#X = combi[[\"Dated Brent\",\"Jet\",\"ULSD\",\"VGO 2%\"]]\n",
    "y = combi[\"Arab light\"].values\n",
    "\n",
    "\n",
    " \n",
    "\n",
    "\n"
   ]
  },
  {
   "cell_type": "code",
   "execution_count": null,
   "metadata": {},
   "outputs": [],
   "source": []
  },
  {
   "cell_type": "code",
   "execution_count": 17,
   "metadata": {},
   "outputs": [
    {
     "data": {
      "text/plain": [
       "(165, 13)"
      ]
     },
     "execution_count": 17,
     "metadata": {},
     "output_type": "execute_result"
    }
   ],
   "source": [
    "from sklearn.model_selection import train_test_split\n",
    "X_train, X_test, y_train, y_test = train_test_split(X, y, test_size=0.3)\n",
    "X_train.shape\n"
   ]
  },
  {
   "cell_type": "code",
   "execution_count": 25,
   "metadata": {},
   "outputs": [],
   "source": [
    "#create model and optimiser\n",
    "from keras import Sequential\n",
    "from keras.layers import Dense\n",
    "def build_regressor():\n",
    "    regressor = Sequential()\n",
    "    regressor.add(Dense(units=30, input_dim=13,activation =\"relu\"))\n",
    "    regressor.add(Dense(units=30,activation =\"relu\"))\n",
    "    regressor.add(Dense(units=10,activation =\"relu\"))\n",
    "    regressor.add(Dense(units=1))\n",
    "    regressor.compile(optimizer='adam', loss='mean_squared_error',  metrics=['mae','accuracy'])\n",
    "    return regressor"
   ]
  },
  {
   "cell_type": "code",
   "execution_count": 26,
   "metadata": {},
   "outputs": [],
   "source": [
    "from keras.wrappers.scikit_learn import KerasRegressor\n",
    "regressor = KerasRegressor(build_fn=build_regressor, batch_size=32,epochs=200)"
   ]
  },
  {
   "cell_type": "code",
   "execution_count": 27,
   "metadata": {},
   "outputs": [
    {
     "name": "stdout",
     "output_type": "stream",
     "text": [
      "Epoch 1/200\n",
      "165/165 [==============================] - 0s 1ms/step - loss: 10.1936 - mae: 2.3995 - accuracy: 0.0061\n",
      "Epoch 2/200\n",
      "165/165 [==============================] - 0s 117us/step - loss: 5.2941 - mae: 1.8818 - accuracy: 0.0000e+00\n",
      "Epoch 3/200\n",
      "165/165 [==============================] - 0s 152us/step - loss: 3.3200 - mae: 1.4784 - accuracy: 0.0061\n",
      "Epoch 4/200\n",
      "165/165 [==============================] - 0s 117us/step - loss: 3.2502 - mae: 1.4500 - accuracy: 0.0061\n",
      "Epoch 5/200\n",
      "165/165 [==============================] - 0s 340us/step - loss: 2.7771 - mae: 1.3541 - accuracy: 0.0061\n",
      "Epoch 6/200\n",
      "165/165 [==============================] - 0s 117us/step - loss: 2.6901 - mae: 1.3419 - accuracy: 0.0061\n",
      "Epoch 7/200\n",
      "165/165 [==============================] - 0s 113us/step - loss: 2.6261 - mae: 1.3004 - accuracy: 0.0061\n",
      "Epoch 8/200\n",
      "165/165 [==============================] - 0s 360us/step - loss: 2.5234 - mae: 1.2699 - accuracy: 0.0061\n",
      "Epoch 9/200\n",
      "165/165 [==============================] - 0s 88us/step - loss: 2.3758 - mae: 1.2555 - accuracy: 0.0061\n",
      "Epoch 10/200\n",
      "165/165 [==============================] - 0s 96us/step - loss: 2.3461 - mae: 1.2176 - accuracy: 0.0061\n",
      "Epoch 11/200\n",
      "165/165 [==============================] - 0s 418us/step - loss: 2.2558 - mae: 1.2211 - accuracy: 0.0061\n",
      "Epoch 12/200\n",
      "165/165 [==============================] - 0s 117us/step - loss: 2.2846 - mae: 1.1909 - accuracy: 0.0121\n",
      "Epoch 13/200\n",
      "165/165 [==============================] - 0s 116us/step - loss: 2.1797 - mae: 1.1809 - accuracy: 0.0121\n",
      "Epoch 14/200\n",
      "165/165 [==============================] - 0s 346us/step - loss: 2.1226 - mae: 1.1544 - accuracy: 0.0121\n",
      "Epoch 15/200\n",
      "165/165 [==============================] - 0s 71us/step - loss: 2.0446 - mae: 1.1431 - accuracy: 0.0121\n",
      "Epoch 16/200\n",
      "165/165 [==============================] - 0s 67us/step - loss: 2.0590 - mae: 1.1576 - accuracy: 0.0061\n",
      "Epoch 17/200\n",
      "165/165 [==============================] - 0s 327us/step - loss: 2.0108 - mae: 1.1422 - accuracy: 0.0121\n",
      "Epoch 18/200\n",
      "165/165 [==============================] - 0s 102us/step - loss: 1.9601 - mae: 1.1246 - accuracy: 0.0121\n",
      "Epoch 19/200\n",
      "165/165 [==============================] - 0s 101us/step - loss: 1.9546 - mae: 1.1325 - accuracy: 0.0121\n",
      "Epoch 20/200\n",
      "165/165 [==============================] - 0s 350us/step - loss: 1.9068 - mae: 1.1131 - accuracy: 0.0121\n",
      "Epoch 21/200\n",
      "165/165 [==============================] - 0s 103us/step - loss: 1.8876 - mae: 1.1026 - accuracy: 0.0121\n",
      "Epoch 22/200\n",
      "165/165 [==============================] - 0s 104us/step - loss: 1.9173 - mae: 1.1251 - accuracy: 0.0121\n",
      "Epoch 23/200\n",
      "165/165 [==============================] - 0s 298us/step - loss: 1.9028 - mae: 1.1360 - accuracy: 0.0061\n",
      "Epoch 24/200\n",
      "165/165 [==============================] - 0s 113us/step - loss: 1.8502 - mae: 1.1000 - accuracy: 0.0061\n",
      "Epoch 25/200\n",
      "165/165 [==============================] - 0s 102us/step - loss: 1.8897 - mae: 1.1265 - accuracy: 0.0061\n",
      "Epoch 26/200\n",
      "165/165 [==============================] - 0s 373us/step - loss: 1.7901 - mae: 1.0819 - accuracy: 0.0061\n",
      "Epoch 27/200\n",
      "165/165 [==============================] - 0s 98us/step - loss: 2.0116 - mae: 1.1172 - accuracy: 0.0121\n",
      "Epoch 28/200\n",
      "165/165 [==============================] - 0s 102us/step - loss: 1.7749 - mae: 1.0678 - accuracy: 0.0061\n",
      "Epoch 29/200\n",
      "165/165 [==============================] - 0s 360us/step - loss: 1.7951 - mae: 1.0930 - accuracy: 0.0061\n",
      "Epoch 30/200\n",
      "165/165 [==============================] - 0s 105us/step - loss: 1.8942 - mae: 1.1024 - accuracy: 0.0061\n",
      "Epoch 31/200\n",
      "165/165 [==============================] - 0s 102us/step - loss: 1.9251 - mae: 1.1604 - accuracy: 0.0000e+00\n",
      "Epoch 32/200\n",
      "165/165 [==============================] - 0s 333us/step - loss: 1.8667 - mae: 1.1021 - accuracy: 0.0121\n",
      "Epoch 33/200\n",
      "165/165 [==============================] - 0s 99us/step - loss: 1.7871 - mae: 1.0921 - accuracy: 0.0061\n",
      "Epoch 34/200\n",
      "165/165 [==============================] - 0s 87us/step - loss: 1.8568 - mae: 1.0973 - accuracy: 0.0121\n",
      "Epoch 35/200\n",
      "165/165 [==============================] - 0s 335us/step - loss: 1.7531 - mae: 1.0766 - accuracy: 0.0061\n",
      "Epoch 36/200\n",
      "165/165 [==============================] - 0s 135us/step - loss: 1.7928 - mae: 1.0709 - accuracy: 0.0121\n",
      "Epoch 37/200\n",
      "165/165 [==============================] - 0s 386us/step - loss: 1.7737 - mae: 1.0860 - accuracy: 0.0061\n",
      "Epoch 38/200\n",
      "165/165 [==============================] - 0s 93us/step - loss: 1.7976 - mae: 1.0592 - accuracy: 0.0121\n",
      "Epoch 39/200\n",
      "165/165 [==============================] - 0s 120us/step - loss: 1.7636 - mae: 1.0847 - accuracy: 0.0061\n",
      "Epoch 40/200\n",
      "165/165 [==============================] - 0s 375us/step - loss: 1.6402 - mae: 1.0064 - accuracy: 0.0121\n",
      "Epoch 41/200\n",
      "165/165 [==============================] - 0s 128us/step - loss: 1.7182 - mae: 1.0289 - accuracy: 0.0121\n",
      "Epoch 42/200\n",
      "165/165 [==============================] - 0s 114us/step - loss: 1.7621 - mae: 1.0901 - accuracy: 0.0061\n",
      "Epoch 43/200\n",
      "165/165 [==============================] - 0s 121us/step - loss: 1.6408 - mae: 1.0124 - accuracy: 0.0121\n",
      "Epoch 44/200\n",
      "165/165 [==============================] - 0s 120us/step - loss: 1.6368 - mae: 1.0377 - accuracy: 0.0121\n",
      "Epoch 45/200\n",
      "165/165 [==============================] - 0s 382us/step - loss: 1.6143 - mae: 1.0085 - accuracy: 0.0121\n",
      "Epoch 46/200\n",
      "165/165 [==============================] - 0s 101us/step - loss: 1.6617 - mae: 1.0192 - accuracy: 0.0121\n",
      "Epoch 47/200\n",
      "165/165 [==============================] - 0s 95us/step - loss: 1.6058 - mae: 1.0186 - accuracy: 0.0121\n",
      "Epoch 48/200\n",
      "165/165 [==============================] - 0s 364us/step - loss: 1.6147 - mae: 1.0002 - accuracy: 0.0121\n",
      "Epoch 49/200\n",
      "165/165 [==============================] - 0s 102us/step - loss: 1.5639 - mae: 0.9992 - accuracy: 0.0121\n",
      "Epoch 50/200\n",
      "165/165 [==============================] - 0s 97us/step - loss: 1.5579 - mae: 1.0037 - accuracy: 0.0121\n",
      "Epoch 51/200\n",
      "165/165 [==============================] - 0s 369us/step - loss: 1.5382 - mae: 1.0033 - accuracy: 0.0121\n",
      "Epoch 52/200\n",
      "165/165 [==============================] - 0s 125us/step - loss: 1.6670 - mae: 1.0291 - accuracy: 0.0121\n",
      "Epoch 53/200\n",
      "165/165 [==============================] - 0s 346us/step - loss: 1.6319 - mae: 1.0450 - accuracy: 0.0061\n",
      "Epoch 54/200\n",
      "165/165 [==============================] - 0s 108us/step - loss: 1.5767 - mae: 0.9873 - accuracy: 0.0121\n",
      "Epoch 55/200\n",
      "165/165 [==============================] - 0s 113us/step - loss: 1.6573 - mae: 1.0533 - accuracy: 0.0182\n",
      "Epoch 56/200\n",
      "165/165 [==============================] - 0s 309us/step - loss: 1.9054 - mae: 1.0958 - accuracy: 0.0121\n",
      "Epoch 57/200\n",
      "165/165 [==============================] - 0s 109us/step - loss: 1.8308 - mae: 1.1153 - accuracy: 0.0061\n",
      "Epoch 58/200\n",
      "165/165 [==============================] - 0s 105us/step - loss: 1.5586 - mae: 0.9910 - accuracy: 0.0121\n",
      "Epoch 59/200\n",
      "165/165 [==============================] - 0s 103us/step - loss: 1.4978 - mae: 0.9855 - accuracy: 0.0121\n",
      "Epoch 60/200\n",
      "165/165 [==============================] - 0s 138us/step - loss: 1.5125 - mae: 0.9804 - accuracy: 0.0121\n",
      "Epoch 61/200\n",
      "165/165 [==============================] - 0s 116us/step - loss: 1.5071 - mae: 0.9890 - accuracy: 0.0121\n",
      "Epoch 62/200\n",
      "165/165 [==============================] - 0s 378us/step - loss: 1.6326 - mae: 1.0101 - accuracy: 0.0121\n",
      "Epoch 63/200\n",
      "165/165 [==============================] - 0s 107us/step - loss: 1.7022 - mae: 1.0710 - accuracy: 0.0182\n",
      "Epoch 64/200\n",
      "165/165 [==============================] - 0s 116us/step - loss: 1.5421 - mae: 0.9796 - accuracy: 0.0121\n",
      "Epoch 65/200\n",
      "165/165 [==============================] - 0s 327us/step - loss: 1.5581 - mae: 1.0205 - accuracy: 0.0121\n",
      "Epoch 66/200\n",
      "165/165 [==============================] - 0s 118us/step - loss: 1.5329 - mae: 0.9833 - accuracy: 0.0121\n",
      "Epoch 67/200\n",
      "165/165 [==============================] - 0s 107us/step - loss: 1.4541 - mae: 0.9613 - accuracy: 0.0121\n",
      "Epoch 68/200\n",
      "165/165 [==============================] - 0s 347us/step - loss: 1.4912 - mae: 0.9859 - accuracy: 0.0121\n",
      "Epoch 69/200\n",
      "165/165 [==============================] - 0s 117us/step - loss: 1.4803 - mae: 0.9861 - accuracy: 0.0061\n",
      "Epoch 70/200\n"
     ]
    },
    {
     "name": "stdout",
     "output_type": "stream",
     "text": [
      "165/165 [==============================] - 0s 104us/step - loss: 1.4938 - mae: 0.9960 - accuracy: 0.0061\n",
      "Epoch 71/200\n",
      "165/165 [==============================] - 0s 319us/step - loss: 1.4472 - mae: 0.9667 - accuracy: 0.0121\n",
      "Epoch 72/200\n",
      "165/165 [==============================] - 0s 96us/step - loss: 1.4458 - mae: 0.9725 - accuracy: 0.0121\n",
      "Epoch 73/200\n",
      "165/165 [==============================] - 0s 104us/step - loss: 1.4304 - mae: 0.9574 - accuracy: 0.0121\n",
      "Epoch 74/200\n",
      "165/165 [==============================] - 0s 327us/step - loss: 1.4335 - mae: 0.9652 - accuracy: 0.0121\n",
      "Epoch 75/200\n",
      "165/165 [==============================] - 0s 95us/step - loss: 1.4535 - mae: 0.9622 - accuracy: 0.0121\n",
      "Epoch 76/200\n",
      "165/165 [==============================] - 0s 107us/step - loss: 1.4346 - mae: 0.9581 - accuracy: 0.0182\n",
      "Epoch 77/200\n",
      "165/165 [==============================] - 0s 360us/step - loss: 1.4131 - mae: 0.9430 - accuracy: 0.0121\n",
      "Epoch 78/200\n",
      "165/165 [==============================] - 0s 120us/step - loss: 1.4592 - mae: 0.9745 - accuracy: 0.0182\n",
      "Epoch 79/200\n",
      "165/165 [==============================] - 0s 393us/step - loss: 1.5314 - mae: 0.9849 - accuracy: 0.0121\n",
      "Epoch 80/200\n",
      "165/165 [==============================] - 0s 115us/step - loss: 1.4395 - mae: 0.9672 - accuracy: 0.0182\n",
      "Epoch 81/200\n",
      "165/165 [==============================] - 0s 105us/step - loss: 1.5367 - mae: 1.0003 - accuracy: 0.0121\n",
      "Epoch 82/200\n",
      "165/165 [==============================] - 0s 343us/step - loss: 1.4326 - mae: 0.9592 - accuracy: 0.0182\n",
      "Epoch 83/200\n",
      "165/165 [==============================] - 0s 98us/step - loss: 1.3735 - mae: 0.9435 - accuracy: 0.0121\n",
      "Epoch 84/200\n",
      "165/165 [==============================] - 0s 102us/step - loss: 1.4034 - mae: 0.9622 - accuracy: 0.0182\n",
      "Epoch 85/200\n",
      "165/165 [==============================] - 0s 339us/step - loss: 1.5354 - mae: 1.0080 - accuracy: 0.0121\n",
      "Epoch 86/200\n",
      "165/165 [==============================] - 0s 84us/step - loss: 1.7891 - mae: 1.0877 - accuracy: 0.0121\n",
      "Epoch 87/200\n",
      "165/165 [==============================] - 0s 101us/step - loss: 1.5819 - mae: 1.0359 - accuracy: 0.0061\n",
      "Epoch 88/200\n",
      "165/165 [==============================] - ETA: 0s - loss: 1.8491 - mae: 1.1586 - accuracy: 0.0000e+ - 0s 373us/step - loss: 1.3985 - mae: 0.9679 - accuracy: 0.0121\n",
      "Epoch 89/200\n",
      "165/165 [==============================] - 0s 108us/step - loss: 1.3850 - mae: 0.9598 - accuracy: 0.0121\n",
      "Epoch 90/200\n",
      "165/165 [==============================] - 0s 348us/step - loss: 1.3590 - mae: 0.9445 - accuracy: 0.0121\n",
      "Epoch 91/200\n",
      "165/165 [==============================] - 0s 146us/step - loss: 1.3287 - mae: 0.9355 - accuracy: 0.0121\n",
      "Epoch 92/200\n",
      "165/165 [==============================] - 0s 125us/step - loss: 1.3333 - mae: 0.9366 - accuracy: 0.0121\n",
      "Epoch 93/200\n",
      "165/165 [==============================] - 0s 348us/step - loss: 1.3719 - mae: 0.9434 - accuracy: 0.0182\n",
      "Epoch 94/200\n",
      "165/165 [==============================] - 0s 149us/step - loss: 1.3601 - mae: 0.9331 - accuracy: 0.0121\n",
      "Epoch 95/200\n",
      "165/165 [==============================] - 0s 333us/step - loss: 1.4125 - mae: 0.9713 - accuracy: 0.0121\n",
      "Epoch 96/200\n",
      "165/165 [==============================] - 0s 169us/step - loss: 1.3750 - mae: 0.9282 - accuracy: 0.0121\n",
      "Epoch 97/200\n",
      "165/165 [==============================] - 0s 99us/step - loss: 1.4221 - mae: 0.9752 - accuracy: 0.0182\n",
      "Epoch 98/200\n",
      "165/165 [==============================] - 0s 324us/step - loss: 1.7778 - mae: 1.0741 - accuracy: 0.0121\n",
      "Epoch 99/200\n",
      "165/165 [==============================] - 0s 117us/step - loss: 2.0745 - mae: 1.1866 - accuracy: 0.0182\n",
      "Epoch 100/200\n",
      "165/165 [==============================] - 0s 100us/step - loss: 1.7457 - mae: 1.0851 - accuracy: 0.0121\n",
      "Epoch 101/200\n",
      "165/165 [==============================] - 0s 359us/step - loss: 1.7299 - mae: 1.0760 - accuracy: 0.0121\n",
      "Epoch 102/200\n",
      "165/165 [==============================] - 0s 100us/step - loss: 1.3605 - mae: 0.9430 - accuracy: 0.0121\n",
      "Epoch 103/200\n",
      "165/165 [==============================] - 0s 105us/step - loss: 1.3469 - mae: 0.9377 - accuracy: 0.0182\n",
      "Epoch 104/200\n",
      "165/165 [==============================] - 0s 305us/step - loss: 1.3461 - mae: 0.9409 - accuracy: 0.0121\n",
      "Epoch 105/200\n",
      "165/165 [==============================] - 0s 83us/step - loss: 1.3176 - mae: 0.9207 - accuracy: 0.0182\n",
      "Epoch 106/200\n",
      "165/165 [==============================] - 0s 76us/step - loss: 1.2659 - mae: 0.9094 - accuracy: 0.0121\n",
      "Epoch 107/200\n",
      "165/165 [==============================] - 0s 366us/step - loss: 1.3161 - mae: 0.9424 - accuracy: 0.0121\n",
      "Epoch 108/200\n",
      "165/165 [==============================] - 0s 104us/step - loss: 1.3210 - mae: 0.9403 - accuracy: 0.0121\n",
      "Epoch 109/200\n",
      "165/165 [==============================] - 0s 99us/step - loss: 1.2725 - mae: 0.9085 - accuracy: 0.0121\n",
      "Epoch 110/200\n",
      "165/165 [==============================] - 0s 312us/step - loss: 1.2689 - mae: 0.9152 - accuracy: 0.0121\n",
      "Epoch 111/200\n",
      "165/165 [==============================] - 0s 140us/step - loss: 1.2508 - mae: 0.9096 - accuracy: 0.0121\n",
      "Epoch 112/200\n",
      "165/165 [==============================] - 0s 126us/step - loss: 1.2611 - mae: 0.9152 - accuracy: 0.0121\n",
      "Epoch 113/200\n",
      "165/165 [==============================] - 0s 328us/step - loss: 1.3777 - mae: 0.9454 - accuracy: 0.0121\n",
      "Epoch 114/200\n",
      "165/165 [==============================] - 0s 139us/step - loss: 1.2934 - mae: 0.9297 - accuracy: 0.0121\n",
      "Epoch 115/200\n",
      "165/165 [==============================] - 0s 132us/step - loss: 1.3613 - mae: 0.9368 - accuracy: 0.0121\n",
      "Epoch 116/200\n",
      "165/165 [==============================] - 0s 148us/step - loss: 1.1802 - mae: 0.8782 - accuracy: 0.0182\n",
      "Epoch 117/200\n",
      "165/165 [==============================] - 0s 140us/step - loss: 1.7840 - mae: 1.0741 - accuracy: 0.0121\n",
      "Epoch 118/200\n",
      "165/165 [==============================] - 0s 342us/step - loss: 1.6537 - mae: 1.0527 - accuracy: 0.0182\n",
      "Epoch 119/200\n",
      "165/165 [==============================] - 0s 97us/step - loss: 1.5482 - mae: 1.0231 - accuracy: 0.0121\n",
      "Epoch 120/200\n",
      "165/165 [==============================] - 0s 107us/step - loss: 1.4006 - mae: 0.9521 - accuracy: 0.0182\n",
      "Epoch 121/200\n",
      "165/165 [==============================] - 0s 368us/step - loss: 1.2774 - mae: 0.9234 - accuracy: 0.0121\n",
      "Epoch 122/200\n",
      "165/165 [==============================] - 0s 116us/step - loss: 1.2328 - mae: 0.9054 - accuracy: 0.0182\n",
      "Epoch 123/200\n",
      "165/165 [==============================] - 0s 102us/step - loss: 1.2556 - mae: 0.9043 - accuracy: 0.0121\n",
      "Epoch 124/200\n",
      "165/165 [==============================] - 0s 295us/step - loss: 1.2190 - mae: 0.8936 - accuracy: 0.0182\n",
      "Epoch 125/200\n",
      "165/165 [==============================] - 0s 88us/step - loss: 1.2188 - mae: 0.8919 - accuracy: 0.0121\n",
      "Epoch 126/200\n",
      "165/165 [==============================] - 0s 122us/step - loss: 1.4071 - mae: 0.9534 - accuracy: 0.0121\n",
      "Epoch 127/200\n",
      "165/165 [==============================] - 0s 319us/step - loss: 1.2911 - mae: 0.9068 - accuracy: 0.0182\n",
      "Epoch 128/200\n",
      "165/165 [==============================] - 0s 106us/step - loss: 1.1996 - mae: 0.8847 - accuracy: 0.0121\n",
      "Epoch 129/200\n",
      "165/165 [==============================] - 0s 108us/step - loss: 1.3455 - mae: 0.9484 - accuracy: 0.0182\n",
      "Epoch 130/200\n",
      "165/165 [==============================] - 0s 308us/step - loss: 1.3642 - mae: 0.9717 - accuracy: 0.0121\n",
      "Epoch 131/200\n",
      "165/165 [==============================] - 0s 114us/step - loss: 1.2674 - mae: 0.9046 - accuracy: 0.0121\n",
      "Epoch 132/200\n",
      "165/165 [==============================] - 0s 95us/step - loss: 1.2211 - mae: 0.8845 - accuracy: 0.0182\n",
      "Epoch 133/200\n",
      "165/165 [==============================] - 0s 307us/step - loss: 1.1992 - mae: 0.8847 - accuracy: 0.0182\n",
      "Epoch 134/200\n",
      "165/165 [==============================] - 0s 109us/step - loss: 1.2213 - mae: 0.8851 - accuracy: 0.0121\n",
      "Epoch 135/200\n",
      "165/165 [==============================] - 0s 116us/step - loss: 1.4570 - mae: 0.9934 - accuracy: 0.0121\n",
      "Epoch 136/200\n",
      "165/165 [==============================] - 0s 290us/step - loss: 1.2315 - mae: 0.8957 - accuracy: 0.0121\n",
      "Epoch 137/200\n",
      "165/165 [==============================] - 0s 101us/step - loss: 1.2510 - mae: 0.8927 - accuracy: 0.0182\n",
      "Epoch 138/200\n"
     ]
    },
    {
     "name": "stdout",
     "output_type": "stream",
     "text": [
      "165/165 [==============================] - 0s 105us/step - loss: 1.2000 - mae: 0.8801 - accuracy: 0.0182\n",
      "Epoch 139/200\n",
      "165/165 [==============================] - 0s 98us/step - loss: 1.1976 - mae: 0.8817 - accuracy: 0.0121\n",
      "Epoch 140/200\n",
      "165/165 [==============================] - 0s 270us/step - loss: 1.1550 - mae: 0.8604 - accuracy: 0.0182\n",
      "Epoch 141/200\n",
      "165/165 [==============================] - 0s 94us/step - loss: 1.1441 - mae: 0.8622 - accuracy: 0.0121\n",
      "Epoch 142/200\n",
      "165/165 [==============================] - 0s 98us/step - loss: 1.1587 - mae: 0.8698 - accuracy: 0.0182\n",
      "Epoch 143/200\n",
      "165/165 [==============================] - 0s 333us/step - loss: 1.1217 - mae: 0.8499 - accuracy: 0.0121\n",
      "Epoch 144/200\n",
      "165/165 [==============================] - 0s 91us/step - loss: 1.1574 - mae: 0.8677 - accuracy: 0.0121\n",
      "Epoch 145/200\n",
      "165/165 [==============================] - 0s 95us/step - loss: 1.2238 - mae: 0.8971 - accuracy: 0.0121\n",
      "Epoch 146/200\n",
      "165/165 [==============================] - 0s 311us/step - loss: 1.1168 - mae: 0.8489 - accuracy: 0.0182\n",
      "Epoch 147/200\n",
      "165/165 [==============================] - 0s 111us/step - loss: 1.1099 - mae: 0.8580 - accuracy: 0.0121\n",
      "Epoch 148/200\n",
      "165/165 [==============================] - 0s 108us/step - loss: 1.1901 - mae: 0.9036 - accuracy: 0.0121\n",
      "Epoch 149/200\n",
      "165/165 [==============================] - 0s 95us/step - loss: 1.1338 - mae: 0.8615 - accuracy: 0.0121\n",
      "Epoch 150/200\n",
      "165/165 [==============================] - 0s 282us/step - loss: 1.1433 - mae: 0.8514 - accuracy: 0.0182\n",
      "Epoch 151/200\n",
      "165/165 [==============================] - 0s 94us/step - loss: 1.1595 - mae: 0.8728 - accuracy: 0.0121\n",
      "Epoch 152/200\n",
      "165/165 [==============================] - 0s 98us/step - loss: 1.1004 - mae: 0.8526 - accuracy: 0.0182\n",
      "Epoch 153/200\n",
      "165/165 [==============================] - 0s 291us/step - loss: 1.1403 - mae: 0.8640 - accuracy: 0.0121\n",
      "Epoch 154/200\n",
      "165/165 [==============================] - 0s 106us/step - loss: 1.1715 - mae: 0.8767 - accuracy: 0.0182\n",
      "Epoch 155/200\n",
      "165/165 [==============================] - 0s 95us/step - loss: 1.1538 - mae: 0.8580 - accuracy: 0.0121\n",
      "Epoch 156/200\n",
      "165/165 [==============================] - 0s 306us/step - loss: 1.2414 - mae: 0.9118 - accuracy: 0.0121\n",
      "Epoch 157/200\n",
      "165/165 [==============================] - 0s 113us/step - loss: 1.2003 - mae: 0.8990 - accuracy: 0.0121\n",
      "Epoch 158/200\n",
      "165/165 [==============================] - 0s 93us/step - loss: 1.1011 - mae: 0.8430 - accuracy: 0.0182\n",
      "Epoch 159/200\n",
      "165/165 [==============================] - 0s 102us/step - loss: 1.0983 - mae: 0.8424 - accuracy: 0.0182\n",
      "Epoch 160/200\n",
      "165/165 [==============================] - 0s 323us/step - loss: 1.0960 - mae: 0.8414 - accuracy: 0.0121\n",
      "Epoch 161/200\n",
      "165/165 [==============================] - 0s 83us/step - loss: 1.1065 - mae: 0.8485 - accuracy: 0.0121\n",
      "Epoch 162/200\n",
      "165/165 [==============================] - 0s 80us/step - loss: 1.1285 - mae: 0.8565 - accuracy: 0.0121\n",
      "Epoch 163/200\n",
      "165/165 [==============================] - 0s 354us/step - loss: 1.1884 - mae: 0.8773 - accuracy: 0.0182\n",
      "Epoch 164/200\n",
      "165/165 [==============================] - 0s 81us/step - loss: 1.0810 - mae: 0.8336 - accuracy: 0.0121\n",
      "Epoch 165/200\n",
      "165/165 [==============================] - 0s 73us/step - loss: 1.0835 - mae: 0.8426 - accuracy: 0.0121\n",
      "Epoch 166/200\n",
      "165/165 [==============================] - 0s 80us/step - loss: 1.1068 - mae: 0.8393 - accuracy: 0.0121\n",
      "Epoch 167/200\n",
      "165/165 [==============================] - 0s 115us/step - loss: 1.1273 - mae: 0.8510 - accuracy: 0.0182\n",
      "Epoch 168/200\n",
      "165/165 [==============================] - 0s 81us/step - loss: 1.2969 - mae: 0.9009 - accuracy: 0.0061\n",
      "Epoch 169/200\n",
      "165/165 [==============================] - 0s 80us/step - loss: 1.2283 - mae: 0.8966 - accuracy: 0.0121\n",
      "Epoch 170/200\n",
      "165/165 [==============================] - 0s 325us/step - loss: 1.5881 - mae: 1.0087 - accuracy: 0.0061\n",
      "Epoch 171/200\n",
      "165/165 [==============================] - 0s 104us/step - loss: 1.1943 - mae: 0.8752 - accuracy: 0.0061\n",
      "Epoch 172/200\n",
      "165/165 [==============================] - 0s 78us/step - loss: 1.2998 - mae: 0.9074 - accuracy: 0.0061\n",
      "Epoch 173/200\n",
      "165/165 [==============================] - 0s 301us/step - loss: 1.1624 - mae: 0.8430 - accuracy: 0.0121\n",
      "Epoch 174/200\n",
      "165/165 [==============================] - 0s 119us/step - loss: 1.4798 - mae: 0.9920 - accuracy: 0.0182\n",
      "Epoch 175/200\n",
      "165/165 [==============================] - 0s 121us/step - loss: 1.4800 - mae: 1.0085 - accuracy: 0.0121\n",
      "Epoch 176/200\n",
      "165/165 [==============================] - 0s 292us/step - loss: 1.5380 - mae: 1.0136 - accuracy: 0.0182\n",
      "Epoch 177/200\n",
      "165/165 [==============================] - 0s 105us/step - loss: 1.6177 - mae: 1.0031 - accuracy: 0.0121\n",
      "Epoch 178/200\n",
      "165/165 [==============================] - 0s 77us/step - loss: 1.6260 - mae: 1.0588 - accuracy: 0.0061\n",
      "Epoch 179/200\n",
      "165/165 [==============================] - 0s 103us/step - loss: 1.1427 - mae: 0.8866 - accuracy: 0.0121\n",
      "Epoch 180/200\n",
      "165/165 [==============================] - 0s 322us/step - loss: 1.1168 - mae: 0.8440 - accuracy: 0.0182\n",
      "Epoch 181/200\n",
      "165/165 [==============================] - 0s 96us/step - loss: 1.1179 - mae: 0.8434 - accuracy: 0.0121\n",
      "Epoch 182/200\n",
      "165/165 [==============================] - 0s 80us/step - loss: 1.0959 - mae: 0.8567 - accuracy: 0.0121\n",
      "Epoch 183/200\n",
      "165/165 [==============================] - 0s 287us/step - loss: 1.0989 - mae: 0.8351 - accuracy: 0.0121\n",
      "Epoch 184/200\n",
      "165/165 [==============================] - 0s 96us/step - loss: 1.1348 - mae: 0.8434 - accuracy: 0.0121\n",
      "Epoch 185/200\n",
      "165/165 [==============================] - 0s 88us/step - loss: 1.0461 - mae: 0.8208 - accuracy: 0.0182\n",
      "Epoch 186/200\n",
      "165/165 [==============================] - 0s 97us/step - loss: 1.2807 - mae: 0.9063 - accuracy: 0.0121\n",
      "Epoch 187/200\n",
      "165/165 [==============================] - 0s 340us/step - loss: 1.4869 - mae: 0.9984 - accuracy: 0.0121\n",
      "Epoch 188/200\n",
      "165/165 [==============================] - 0s 80us/step - loss: 1.3334 - mae: 0.9520 - accuracy: 0.0121\n",
      "Epoch 189/200\n",
      "165/165 [==============================] - 0s 79us/step - loss: 1.1404 - mae: 0.8568 - accuracy: 0.0121\n",
      "Epoch 190/200\n",
      "165/165 [==============================] - 0s 288us/step - loss: 1.0457 - mae: 0.8068 - accuracy: 0.0121\n",
      "Epoch 191/200\n",
      "165/165 [==============================] - 0s 88us/step - loss: 1.0975 - mae: 0.8450 - accuracy: 0.0121\n",
      "Epoch 192/200\n",
      "165/165 [==============================] - 0s 74us/step - loss: 1.0283 - mae: 0.8070 - accuracy: 0.0182\n",
      "Epoch 193/200\n",
      "165/165 [==============================] - 0s 76us/step - loss: 0.9903 - mae: 0.7928 - accuracy: 0.0121\n",
      "Epoch 194/200\n",
      "165/165 [==============================] - 0s 323us/step - loss: 0.9729 - mae: 0.7949 - accuracy: 0.0121\n",
      "Epoch 195/200\n",
      "165/165 [==============================] - 0s 100us/step - loss: 1.1378 - mae: 0.8441 - accuracy: 0.0182\n",
      "Epoch 196/200\n",
      "165/165 [==============================] - 0s 76us/step - loss: 1.0745 - mae: 0.8346 - accuracy: 0.0121\n",
      "Epoch 197/200\n",
      "165/165 [==============================] - 0s 73us/step - loss: 1.0225 - mae: 0.8130 - accuracy: 0.0121\n",
      "Epoch 198/200\n",
      "165/165 [==============================] - 0s 302us/step - loss: 1.0270 - mae: 0.8248 - accuracy: 0.0182\n",
      "Epoch 199/200\n",
      "165/165 [==============================] - 0s 75us/step - loss: 0.9868 - mae: 0.7829 - accuracy: 0.0121\n",
      "Epoch 200/200\n",
      "165/165 [==============================] - 0s 100us/step - loss: 1.0797 - mae: 0.8268 - accuracy: 0.0182\n"
     ]
    }
   ],
   "source": [
    "results=regressor.fit(X_train,y_train)"
   ]
  },
  {
   "cell_type": "code",
   "execution_count": 28,
   "metadata": {},
   "outputs": [
    {
     "data": {
      "text/plain": [
       "array([-2.0163605 , -2.5175614 , -3.061791  , -4.1590214 , -1.0194526 ,\n",
       "       -3.6628609 , -3.1835985 , -1.8014508 , -1.6572119 , -2.1301231 ,\n",
       "       -6.23266   , -3.8495467 , -2.897261  , -1.7422857 , -1.8018175 ,\n",
       "       -1.2127239 , -1.9882252 , -1.4131262 , -0.46582744, -3.3540063 ,\n",
       "       -3.4041276 , -4.188861  , -1.5911995 , -5.3858547 , -0.87247586,\n",
       "       -3.275759  , -2.0323713 , -0.7325309 , -2.726714  , -6.294711  ,\n",
       "       -7.1849    , -3.4950342 , -4.0756793 , -1.4230964 , -3.6995363 ,\n",
       "       -5.6808863 , -2.0718222 , -4.7084556 , -2.490978  , -4.8825517 ,\n",
       "       -2.6959403 , -2.57513   , -7.323571  , -1.8903686 , -3.7773187 ,\n",
       "       -4.762433  , -1.6778436 , -2.253095  , -1.7365555 ,  0.6097007 ,\n",
       "       -2.8192172 , -3.7597575 , -2.1319923 , -3.816336  , -3.2054954 ,\n",
       "       -2.7127542 , -5.24021   , -3.426133  , -4.166076  , -6.258652  ,\n",
       "       -5.791499  , -4.524078  , -2.175397  , -3.4469094 , -4.963648  ,\n",
       "       -3.405247  , -4.6848993 , -1.4696662 , -5.3878045 , -2.4060936 ,\n",
       "       -3.945612  ], dtype=float32)"
      ]
     },
     "execution_count": 28,
     "metadata": {},
     "output_type": "execute_result"
    }
   ],
   "source": [
    "y_pred_keras= regressor.predict(X_test)\n",
    "y_pred_keras"
   ]
  },
  {
   "cell_type": "code",
   "execution_count": 135,
   "metadata": {},
   "outputs": [
    {
     "data": {
      "text/plain": [
       "228    0.0\n",
       "229   -0.4\n",
       "230   -0.3\n",
       "231   -0.1\n",
       "232   -0.9\n",
       "233   -2.7\n",
       "234   -1.1\n",
       "235   -0.1\n",
       "Name: Urals NWE, dtype: float64"
      ]
     },
     "execution_count": 135,
     "metadata": {},
     "output_type": "execute_result"
    }
   ],
   "source": [
    "yy= combi[\"Urals NWE\"].iloc[-8:]\n",
    "yy"
   ]
  },
  {
   "cell_type": "code",
   "execution_count": 47,
   "metadata": {},
   "outputs": [
    {
     "data": {
      "text/plain": [
       "(0, 2)"
      ]
     },
     "execution_count": 47,
     "metadata": {},
     "output_type": "execute_result"
    },
    {
     "data": {
      "image/png": "[encoded data removed]",
      "text/plain": [
       "<Figure size 600x400 with 1 Axes>"
      ]
     },
     "metadata": {
      "needs_background": "light"
     },
     "output_type": "display_data"
    }
   ],
   "source": [
    "plt.scatter(y_pred_keras,combi[\"Oseberg blend\"].iloc[165:])\n",
    "plt.scatter(y_pred,combi[\"Oseberg blend\"].iloc[165:])\n",
    "plt.xlim([0, 2])\n",
    "plt.ylim([0, 2])"
   ]
  },
  {
   "cell_type": "code",
   "execution_count": 32,
   "metadata": {},
   "outputs": [
    {
     "data": {
      "text/plain": [
       "Text(0, 0.5, 'Azeri BTC')"
      ]
     },
     "execution_count": 32,
     "metadata": {},
     "output_type": "execute_result"
    },
    {
     "data": {
      "image/png": "[encoded data removed]",
      "text/plain": [
       "<Figure size 600x400 with 1 Axes>"
      ]
     },
     "metadata": {
      "needs_background": "light"
     },
     "output_type": "display_data"
    }
   ],
   "source": [
    "plt.scatter(combi[\"Dated Brent\"].iloc[165:],combi[\"Arab light\"].iloc[165:],color = 'black')\n",
    "#plt.scatter(combi[\"Dated Brent\"].iloc[165:],y_predL)\n",
    "#plt.scatter(combi[\"Dated Brent\"].iloc[165:],y_predNL)\n",
    "plt.scatter(combi[\"Dated Brent\"].iloc[165:],y_pred)\n",
    "plt.scatter(combi[\"Dated Brent\"].iloc[165:],y_pred_keras)\n",
    "\n",
    "\n",
    "plt.legend((\"Actual\", \"L\",\"NL\",'RF','ANN'))\n",
    "plt.xlabel('Dated Brent')\n",
    "plt.ylabel('Azeri BTC')"
   ]
  },
  {
   "cell_type": "code",
   "execution_count": 12,
   "metadata": {},
   "outputs": [
    {
     "data": {
      "image/png": "[encoded data removed]",
      "text/plain": [
       "<Figure size 600x400 with 1 Axes>"
      ]
     },
     "metadata": {
      "needs_background": "light"
     },
     "output_type": "display_data"
    }
   ],
   "source": [
    "fig, ax = plt.subplots()\n",
    "ax.scatter(y_test, y_pred)\n",
    "ax.plot([y_test.min(), y_test.max()], [y_test.min(), y_test.max()], 'k--', lw=4)\n",
    "plt.xlim([-6,1])\n",
    "plt.ylim([-6,1])\n",
    "ax.set_xlabel('Measured')\n",
    "ax.set_ylabel('Predicted')\n",
    "plt.show()"
   ]
  },
  {
   "cell_type": "code",
   "execution_count": 30,
   "metadata": {},
   "outputs": [
    {
     "data": {
      "image/png": "[encoded data removed]",
      "text/plain": [
       "<Figure size 600x400 with 1 Axes>"
      ]
     },
     "metadata": {
      "needs_background": "light"
     },
     "output_type": "display_data"
    },
    {
     "name": "stdout",
     "output_type": "stream",
     "text": [
      "Mean squared error: 0.69\n",
      "Feature ranking:\n",
      "Feature Dated Brent (0.412312)\n",
      "Feature Jet (0.132619)\n",
      "Feature ULSD (0.104168)\n",
      "Feature VGO 2% (0.350900)\n"
     ]
    },
    {
     "data": {
      "image/png": "[encoded data removed]",
      "text/plain": [
       "<Figure size 800x600 with 1 Axes>"
      ]
     },
     "metadata": {
      "needs_background": "light"
     },
     "output_type": "display_data"
    }
   ],
   "source": [
    "from sklearn.ensemble import RandomForestRegressor\n",
    "train_combi = combi.iloc[:]\n",
    "test_combi = combi.iloc[165:]\n",
    "\n",
    "plt.rcParams['figure.dpi'] = 100\n",
    "\n",
    "#x_train=train_combi.drop(\"Oman\",axis=1)\n",
    "#x_train=train_combi[train_combi.columns.difference([\"Dated Brent\",\"Propane\",\"Butane\",\"Gasoline\",\"Jet\",\"Gasoil\"\n",
    "#                                                   ,\"FO 1%\",\"ULSD\",\"NAphtha\",\"Butane\",\"FO 3.5%\",\"VGO 0.5%\",\"FO 0.5%\"\n",
    "#                                                    ,\"VGO 2%\"])]\n",
    "x_train=train_combi[[\"Dated Brent\",\"Jet\",\"ULSD\",\"VGO 2%\"]]\n",
    "y_train=train_combi[\"Arab light\"]\n",
    "\n",
    "#df.drop('b', axis=1)\n",
    "\n",
    "#x_test=train_combi.drop(\"Oman\",axis=1)\n",
    "#x_test=test_combi[test_combi.columns.difference([\"Dated Brent\",\"Propane\",\"Butane\",\"Gasoline\",\"Jet\",\"Gasoil\"\n",
    "#                                                  ,\"FO 1%\",\"ULSD\",\"NAphtha\",\"Butane\",\"FO 3.5%\",\"VGO 0.5%\",\"FO 0.5%\"\n",
    "#                                                    ,\"VGO 2%\"])]\n",
    "x_test=test_combi[[\"Dated Brent\",\"Jet\",\"ULSD\",\"VGO 2%\"]]\n",
    "y_test=test_combi[\"Arab light\"].to_frame()\n",
    "\n",
    "\n",
    "\n",
    "regressor = RandomForestRegressor(n_estimators=200, max_depth=5)\n",
    "\n",
    "clf=regressor.fit(x_train, y_train)\n",
    "\n",
    "y_pred=regressor.predict(x_test)\n",
    "y_pred=pd.DataFrame(y_pred)\n",
    "\n",
    "\n",
    "plt_train=plt.scatter(x_train[\"Dated Brent\"],y_train,   color='grey')\n",
    "plt_test=plt.scatter(x_test[\"Dated Brent\"],y_test,   color='green')\n",
    "plt_pred=plt.scatter(x_test[\"Dated Brent\"], y_pred,  color='black')\n",
    "\n",
    "\n",
    "\n",
    "plt.xlabel(\"FO 3.5%\")\n",
    "plt.ylabel(\"Urals NWE\")\n",
    "plt.legend((plt_train, plt_test,plt_pred),(\"train data\", \"test data\",\"prediction\"))\n",
    "plt.show()\n",
    "\n",
    "print(\"Mean squared error: %.2f\"\n",
    "      % np.mean((regressor.predict(x_train) - y_train) ** 2))\n",
    "\n",
    "import seaborn as sns\n",
    "importances=regressor.feature_importances_\n",
    "\n",
    "indices=list(x_train)\n",
    "print(\"Feature ranking:\")\n",
    "\n",
    "for f in range(x_train.shape[1]):\n",
    "    print(\"Feature %s (%f)\" % (indices[f], importances[f]))\n",
    "\n",
    "f, (ax1) = plt.subplots(1, 1, figsize=(8, 6), sharex=True)\n",
    "sns.barplot(indices, importances, palette=\"BrBG\", ax=ax1)\n",
    "ax1.set_ylabel(\"Importance\")\n",
    "\n",
    "ax1.set_xticklabels(\n",
    "    ax1.get_xticklabels(),\n",
    "    rotation=45,\n",
    "    horizontalalignment='right'\n",
    ");\n",
    "\n"
   ]
  },
  {
   "cell_type": "code",
   "execution_count": 31,
   "metadata": {},
   "outputs": [],
   "source": [
    "y_pred=regressor.predict(combi[[\"Dated Brent\",\"Jet\",\"ULSD\",\"VGO 2%\"]].iloc[165:])"
   ]
  },
  {
   "cell_type": "code",
   "execution_count": 55,
   "metadata": {},
   "outputs": [],
   "source": [
    "#y_predNL = 0.221579893076645*(combi[\"FO 3.5%\"].iloc[165:]) + 0.0169570894526404*(combi[\"Dated Brent\"].iloc[165:]) - 0.0154492977171762 - 0.0697233738254049*combi[\"Gasoil\"].iloc[165:] - 0.00856228790867718*combi[\"Gasoil\"].iloc[165:]*(combi[\"FO 3.5%\"].iloc[165:]) - 0.00421761896551571*(combi[\"FO 3.5%\"].iloc[165:])**2"
   ]
  },
  {
   "cell_type": "code",
   "execution_count": 109,
   "metadata": {},
   "outputs": [],
   "source": [
    "y_predNL = 2 - 0.0186675105114445*combi[\"Dated Brent\"].iloc[165:]*np.exp(-7.82878945629328e-9*combi[\"Propane\"].iloc[165:]*combi[\"Naphtha\"].iloc[165:]*np.power(combi[\"Dated Brent\"].iloc[165:],3))\n",
    "\n"
   ]
  },
  {
   "cell_type": "code",
   "execution_count": 110,
   "metadata": {},
   "outputs": [
    {
     "name": "stdout",
     "output_type": "stream",
     "text": [
      "Intercept: \n",
      " -0.14242921745099235\n",
      "Coefficients: \n",
      " [ 0.00204873 -0.04288511 -0.0296611 ]\n",
      "                            OLS Regression Results                            \n",
      "==============================================================================\n",
      "Dep. Variable:              Azeri BTC   R-squared:                       0.482\n",
      "Model:                            OLS   Adj. R-squared:                  0.476\n",
      "Method:                 Least Squares   F-statistic:                     72.10\n",
      "Date:                Tue, 03 Dec 2019   Prob (F-statistic):           5.56e-33\n",
      "Time:                        12:07:04   Log-Likelihood:                -240.36\n",
      "No. Observations:                 236   AIC:                             488.7\n",
      "Df Residuals:                     232   BIC:                             502.6\n",
      "Df Model:                           3                                         \n",
      "Covariance Type:            nonrobust                                         \n",
      "===============================================================================\n",
      "                  coef    std err          t      P>|t|      [0.025      0.975]\n",
      "-------------------------------------------------------------------------------\n",
      "const          -0.1424      0.114     -1.252      0.212      -0.367       0.082\n",
      "Dated Brent     0.0020      0.004      0.524      0.601      -0.006       0.010\n",
      "Naphtha        -0.0429      0.016     -2.671      0.008      -0.075      -0.011\n",
      "Propane        -0.0297      0.010     -3.002      0.003      -0.049      -0.010\n",
      "==============================================================================\n",
      "Omnibus:                        6.717   Durbin-Watson:                   0.905\n",
      "Prob(Omnibus):                  0.035   Jarque-Bera (JB):                6.490\n",
      "Skew:                          -0.356   Prob(JB):                       0.0390\n",
      "Kurtosis:                       3.393   Cond. No.                         198.\n",
      "==============================================================================\n",
      "\n",
      "Warnings:\n",
      "[1] Standard Errors assume that the covariance matrix of the errors is correctly specified.\n"
     ]
    },
    {
     "name": "stderr",
     "output_type": "stream",
     "text": [
      "/srv/conda/envs/notebook/lib/python3.7/site-packages/numpy/core/fromnumeric.py:2495: FutureWarning: Method .ptp is deprecated and will be removed in a future version. Use numpy.ptp instead.\n",
      "  return ptp(axis=axis, out=out, **kwargs)\n"
     ]
    },
    {
     "data": {
      "text/plain": [
       "165    1.367093\n",
       "166    1.026169\n",
       "167    1.077844\n",
       "168    1.224556\n",
       "169    1.384942\n",
       "         ...   \n",
       "231    1.079286\n",
       "232    1.159501\n",
       "233    1.108733\n",
       "234    1.132641\n",
       "235    1.096097\n",
       "Name: Propane, Length: 71, dtype: float64"
      ]
     },
     "execution_count": 110,
     "metadata": {},
     "output_type": "execute_result"
    }
   ],
   "source": [
    "from sklearn import linear_model\n",
    "import statsmodels.api as sm\n",
    "X = combi[['Dated Brent','Naphtha','Propane']]\n",
    "Y = combi['Azeri BTC']\n",
    "regr = linear_model.LinearRegression()\n",
    "regr.fit(X, Y)\n",
    "print('Intercept: \\n', regr.intercept_)\n",
    "print('Coefficients: \\n', regr.coef_)\n",
    "\n",
    "X = sm.add_constant(X)\n",
    "model = sm.OLS(Y, X).fit()\n",
    "predictions = model.predict(X) \n",
    " \n",
    "print_model = model.summary()\n",
    "print(print_model)\n",
    "y_predL = regr.intercept_+ regr.coef_[0]*combi[\"Dated Brent\"].iloc[165:] + regr.coef_[1]*combi[\"Naphtha\"].iloc[165:] \n",
    "+regr.coef_[2]*combi[\"Propane\"].iloc[165:] \n"
   ]
  },
  {
   "cell_type": "code",
   "execution_count": null,
   "metadata": {},
   "outputs": [],
   "source": []
  }
 ],
 "metadata": {
  "kernelspec": {
   "display_name": "Python 3",
   "language": "python",
   "name": "python3"
  },
  "language_info": {
   "codemirror_mode": {
    "name": "ipython",
    "version": 3
   },
   "file_extension": ".py",
   "mimetype": "text/x-python",
   "name": "python",
   "nbconvert_exporter": "python",
   "pygments_lexer": "ipython3",
   "version": "3.7.3"
  }
 },
 "nbformat": 4,
 "nbformat_minor": 2
}
