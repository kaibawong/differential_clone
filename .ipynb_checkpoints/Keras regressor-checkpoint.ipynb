{
 "cells": [
  {
   "cell_type": "code",
   "execution_count": 1,
   "metadata": {},
   "outputs": [
    {
     "name": "stdout",
     "output_type": "stream",
     "text": [
      "         Date  Dated Brent  Bonny light  Mars   WTI  Maya Europe  Maya USGC  \\\n",
      "0    1/1/2000         25.5          0.0   0.0   0.0          0.0        0.0   \n",
      "1    1/2/2000         27.9          0.0   0.0   0.0          0.0        0.0   \n",
      "2    1/3/2000         27.3          0.0   0.0   0.0          0.0        0.0   \n",
      "3    1/4/2000         22.6          0.0   0.0   0.0          0.0        0.0   \n",
      "4    1/5/2000         27.6          0.0   0.0   0.0          0.0        0.0   \n",
      "..        ...          ...          ...   ...   ...          ...        ...   \n",
      "231  1/4/2019         71.3          1.4  -2.3  -7.4         -9.8       -6.5   \n",
      "232  1/5/2019         71.1          1.9  -4.3 -10.3        -10.1       -8.4   \n",
      "233  1/6/2019         64.1          1.7  -4.6  -9.4         -8.1       -5.2   \n",
      "234  1/7/2019         64.0          1.4  -2.0  -6.5         -6.9       -4.1   \n",
      "235  1/8/2019         59.0          1.3  -1.9  -4.2        -12.6       -8.0   \n",
      "\n",
      "     ESPO  Urals NWE  Urals MED  ...   FO 0.5%    VGO 2%  Arab light  \\\n",
      "0     0.0       -0.5       -0.5  ...  0.000000  0.276573        1.00   \n",
      "1     0.0       -0.5       -0.5  ...  0.000000  1.195334        0.75   \n",
      "2     0.0       -1.0       -1.5  ...  0.000000  1.038289        0.75   \n",
      "3     0.0       -1.0       -1.4  ...  0.000000 -0.616742        0.75   \n",
      "4     0.0       -0.6       -1.2  ...  0.000000 -1.653571        0.50   \n",
      "..    ...        ...        ...  ...       ...       ...         ...   \n",
      "231   1.7       -0.1        0.4  ... -3.102314  3.919293       -1.90   \n",
      "232   0.5       -0.9       -0.2  ... -5.629664  4.786823       -0.80   \n",
      "233  -0.2       -2.7       -2.5  ... -0.835000  5.262463        0.00   \n",
      "234   2.3       -1.1       -0.5  ...  4.105514  5.853681       -1.10   \n",
      "235   4.2       -0.1        1.2  ... -0.952231  7.948248       -2.70   \n",
      "\n",
      "     Arab Heavy  Azeri BTC  Tapis  Dalia  Oman  Oseberg blend    ORL  \n",
      "0           0.0        0.0    0.2    0.0  -1.3          0.000  0.000  \n",
      "1           0.0        0.0   -0.4    0.0  -2.5          0.000  0.000  \n",
      "2           0.0        0.0    1.2    0.0  -1.6          0.000  0.000  \n",
      "3           0.0        0.0    2.7    0.0   0.1          0.000  0.000  \n",
      "4           0.0        0.0    1.1    0.0  -1.8          0.000  0.000  \n",
      "..          ...        ...    ...    ...   ...            ...    ...  \n",
      "231        -4.4        1.8    3.4    0.6  -0.1          1.080 -5.900  \n",
      "232        -3.5        1.5    2.7    0.1  -1.3          1.522 -5.820  \n",
      "233        -3.0        0.2    2.1   -0.3  -2.3          1.617 -6.375  \n",
      "234        -4.0        1.6    3.8    1.2  -0.3          0.786 -6.990  \n",
      "235        -5.5        2.9    4.4    2.0   0.7          0.683 -6.928  \n",
      "\n",
      "[236 rows x 32 columns]\n"
     ]
    }
   ],
   "source": [
    "import pandas as pd\n",
    "import numpy as np\n",
    "import matplotlib.pyplot as plt  \n",
    "\n",
    "combi = pd.read_table('Historical_combi2.csv',delimiter =',')\n",
    "\n",
    "combi=combi.fillna(0)\n",
    "print(combi)\n"
   ]
  },
  {
   "cell_type": "code",
   "execution_count": 2,
   "metadata": {},
   "outputs": [
    {
     "name": "stderr",
     "output_type": "stream",
     "text": [
      "Using TensorFlow backend.\n"
     ]
    }
   ],
   "source": [
    "import keras\n",
    "from keras.models import Sequential\n",
    "from keras.layers import Dense\n"
   ]
  },
  {
   "cell_type": "code",
   "execution_count": 5,
   "metadata": {},
   "outputs": [],
   "source": [
    "model = Sequential()\n",
    "\n",
    "#x_train=train_combi[[\"Dated Brent\",\"Jet\",\"ULSD\",\"VGO 2%\"]]\n",
    "\n",
    "X = combi[[\"Dated Brent\",\"Propane\",\"Gasoline\",\"Jet\",\"Gasoil\",\"FO 1%\",\"ULSD\",\"Naphtha\",\"Butane\",\"FO 3.5%\",\"VGO 0.5%\",\n",
    "           \"FO 0.5%\",\"VGO 2%\"]]\n",
    "y = combi[\"Urals NWE\"].values\n",
    "\n",
    "\n",
    " \n",
    "\n",
    "\n"
   ]
  },
  {
   "cell_type": "code",
   "execution_count": null,
   "metadata": {},
   "outputs": [],
   "source": []
  },
  {
   "cell_type": "code",
   "execution_count": 6,
   "metadata": {},
   "outputs": [
    {
     "data": {
      "text/plain": [
       "(165, 13)"
      ]
     },
     "execution_count": 6,
     "metadata": {},
     "output_type": "execute_result"
    }
   ],
   "source": [
    "from sklearn.model_selection import train_test_split\n",
    "X_train, X_test, y_train, y_test = train_test_split(X, y, test_size=0.3)\n",
    "X_train.shape\n"
   ]
  },
  {
   "cell_type": "code",
   "execution_count": 7,
   "metadata": {},
   "outputs": [],
   "source": [
    "#create model and optimiser\n",
    "from keras import Sequential\n",
    "from keras.layers import Dense\n",
    "def build_regressor():\n",
    "    regressor = Sequential()\n",
    "    regressor.add(Dense(units=10, input_dim=13,activation =\"relu\"))\n",
    "    regressor.add(Dense(units=5,activation =\"relu\"))\n",
    "    regressor.add(Dense(units=5,activation =\"relu\"))\n",
    "    regressor.add(Dense(units=1))\n",
    "    regressor.compile(optimizer='adam', loss='mean_squared_error',  metrics=['mae','accuracy'])\n",
    "    return regressor"
   ]
  },
  {
   "cell_type": "code",
   "execution_count": 8,
   "metadata": {},
   "outputs": [],
   "source": [
    "from keras.wrappers.scikit_learn import KerasRegressor\n",
    "regressor = KerasRegressor(build_fn=build_regressor, batch_size=32,epochs=200)"
   ]
  },
  {
   "cell_type": "code",
   "execution_count": 9,
   "metadata": {},
   "outputs": [
    {
     "name": "stdout",
     "output_type": "stream",
     "text": [
      "Epoch 1/200\n",
      "165/165 [==============================] - 0s 1ms/step - loss: 20.7675 - mae: 3.4739 - accuracy: 0.0000e+00\n",
      "Epoch 2/200\n",
      "165/165 [==============================] - 0s 109us/step - loss: 13.3697 - mae: 2.7144 - accuracy: 0.0000e+00\n",
      "Epoch 3/200\n",
      "165/165 [==============================] - 0s 111us/step - loss: 10.0519 - mae: 2.4410 - accuracy: 0.0000e+00\n",
      "Epoch 4/200\n",
      "165/165 [==============================] - 0s 113us/step - loss: 8.6919 - mae: 2.3201 - accuracy: 0.0061\n",
      "Epoch 5/200\n",
      "165/165 [==============================] - 0s 291us/step - loss: 7.2615 - mae: 2.1071 - accuracy: 0.0000e+00\n",
      "Epoch 6/200\n",
      "165/165 [==============================] - 0s 105us/step - loss: 5.8333 - mae: 1.8422 - accuracy: 0.0000e+00\n",
      "Epoch 7/200\n",
      "165/165 [==============================] - 0s 111us/step - loss: 4.6032 - mae: 1.6046 - accuracy: 0.0061\n",
      "Epoch 8/200\n",
      "165/165 [==============================] - 0s 357us/step - loss: 3.9393 - mae: 1.4612 - accuracy: 0.0242\n",
      "Epoch 9/200\n",
      "165/165 [==============================] - 0s 120us/step - loss: 3.3389 - mae: 1.3376 - accuracy: 0.0303\n",
      "Epoch 10/200\n",
      "165/165 [==============================] - 0s 334us/step - loss: 2.8437 - mae: 1.2536 - accuracy: 0.0242\n",
      "Epoch 11/200\n",
      "165/165 [==============================] - 0s 119us/step - loss: 2.5065 - mae: 1.1973 - accuracy: 0.0242\n",
      "Epoch 12/200\n",
      "165/165 [==============================] - 0s 121us/step - loss: 2.2740 - mae: 1.1516 - accuracy: 0.0182\n",
      "Epoch 13/200\n",
      "165/165 [==============================] - 0s 332us/step - loss: 2.1489 - mae: 1.1306 - accuracy: 0.0242\n",
      "Epoch 14/200\n",
      "165/165 [==============================] - 0s 121us/step - loss: 1.9917 - mae: 1.0900 - accuracy: 0.0303\n",
      "Epoch 15/200\n",
      "165/165 [==============================] - 0s 125us/step - loss: 1.8427 - mae: 1.0448 - accuracy: 0.0303\n",
      "Epoch 16/200\n",
      "165/165 [==============================] - 0s 296us/step - loss: 1.7254 - mae: 1.0088 - accuracy: 0.0242\n",
      "Epoch 17/200\n",
      "165/165 [==============================] - 0s 126us/step - loss: 1.6061 - mae: 0.9749 - accuracy: 0.0303\n",
      "Epoch 18/200\n",
      "165/165 [==============================] - 0s 112us/step - loss: 1.5087 - mae: 0.9512 - accuracy: 0.0303\n",
      "Epoch 19/200\n",
      "165/165 [==============================] - 0s 316us/step - loss: 1.4466 - mae: 0.9372 - accuracy: 0.0303\n",
      "Epoch 20/200\n",
      "165/165 [==============================] - 0s 126us/step - loss: 1.3726 - mae: 0.9166 - accuracy: 0.0303\n",
      "Epoch 21/200\n",
      "165/165 [==============================] - 0s 116us/step - loss: 1.3285 - mae: 0.9027 - accuracy: 0.0242\n",
      "Epoch 22/200\n",
      "165/165 [==============================] - 0s 272us/step - loss: 1.2913 - mae: 0.8916 - accuracy: 0.0303\n",
      "Epoch 23/200\n",
      "165/165 [==============================] - 0s 105us/step - loss: 1.2542 - mae: 0.8803 - accuracy: 0.0303\n",
      "Epoch 24/200\n",
      "165/165 [==============================] - 0s 107us/step - loss: 1.2171 - mae: 0.8694 - accuracy: 0.0303\n",
      "Epoch 25/200\n",
      "165/165 [==============================] - 0s 273us/step - loss: 1.1904 - mae: 0.8617 - accuracy: 0.0303\n",
      "Epoch 26/200\n",
      "165/165 [==============================] - 0s 101us/step - loss: 1.1655 - mae: 0.8532 - accuracy: 0.0303\n",
      "Epoch 27/200\n",
      "165/165 [==============================] - 0s 103us/step - loss: 1.1396 - mae: 0.8468 - accuracy: 0.0303\n",
      "Epoch 28/200\n",
      "165/165 [==============================] - 0s 105us/step - loss: 1.1156 - mae: 0.8406 - accuracy: 0.0303\n",
      "Epoch 29/200\n",
      "165/165 [==============================] - 0s 306us/step - loss: 1.1038 - mae: 0.8375 - accuracy: 0.0303\n",
      "Epoch 30/200\n",
      "165/165 [==============================] - 0s 98us/step - loss: 1.0876 - mae: 0.8325 - accuracy: 0.0242\n",
      "Epoch 31/200\n",
      "165/165 [==============================] - 0s 94us/step - loss: 1.0751 - mae: 0.8278 - accuracy: 0.0242\n",
      "Epoch 32/200\n",
      "165/165 [==============================] - 0s 97us/step - loss: 1.0614 - mae: 0.8210 - accuracy: 0.0242\n",
      "Epoch 33/200\n",
      "165/165 [==============================] - 0s 116us/step - loss: 1.0618 - mae: 0.8221 - accuracy: 0.0303\n",
      "Epoch 34/200\n",
      "165/165 [==============================] - 0s 96us/step - loss: 1.0442 - mae: 0.8150 - accuracy: 0.0303\n",
      "Epoch 35/200\n",
      "165/165 [==============================] - 0s 93us/step - loss: 1.0246 - mae: 0.8065 - accuracy: 0.0303\n",
      "Epoch 36/200\n",
      "165/165 [==============================] - 0s 280us/step - loss: 1.0190 - mae: 0.8045 - accuracy: 0.0242\n",
      "Epoch 37/200\n",
      "165/165 [==============================] - 0s 98us/step - loss: 1.0086 - mae: 0.8015 - accuracy: 0.0242\n",
      "Epoch 38/200\n",
      "165/165 [==============================] - 0s 97us/step - loss: 1.0093 - mae: 0.7976 - accuracy: 0.0303\n",
      "Epoch 39/200\n",
      "165/165 [==============================] - 0s 102us/step - loss: 0.9952 - mae: 0.7936 - accuracy: 0.0303\n",
      "Epoch 40/200\n",
      "165/165 [==============================] - 0s 269us/step - loss: 0.9845 - mae: 0.7897 - accuracy: 0.0303\n",
      "Epoch 41/200\n",
      "165/165 [==============================] - 0s 108us/step - loss: 0.9715 - mae: 0.7853 - accuracy: 0.0242\n",
      "Epoch 42/200\n",
      "165/165 [==============================] - 0s 101us/step - loss: 0.9620 - mae: 0.7836 - accuracy: 0.0242\n",
      "Epoch 43/200\n",
      "165/165 [==============================] - 0s 293us/step - loss: 0.9561 - mae: 0.7775 - accuracy: 0.0303\n",
      "Epoch 44/200\n",
      "165/165 [==============================] - 0s 105us/step - loss: 0.9448 - mae: 0.7728 - accuracy: 0.0303\n",
      "Epoch 45/200\n",
      "165/165 [==============================] - 0s 110us/step - loss: 0.9375 - mae: 0.7694 - accuracy: 0.0303\n",
      "Epoch 46/200\n",
      "165/165 [==============================] - ETA: 0s - loss: 0.9687 - mae: 0.7212 - accuracy: 0.03 - 0s 101us/step - loss: 0.9328 - mae: 0.7685 - accuracy: 0.0303\n",
      "Epoch 47/200\n",
      "165/165 [==============================] - 0s 108us/step - loss: 0.9245 - mae: 0.7638 - accuracy: 0.0303\n",
      "Epoch 48/200\n",
      "165/165 [==============================] - 0s 98us/step - loss: 0.9198 - mae: 0.7645 - accuracy: 0.0303\n",
      "Epoch 49/200\n",
      "165/165 [==============================] - 0s 100us/step - loss: 0.9078 - mae: 0.7592 - accuracy: 0.0303\n",
      "Epoch 50/200\n",
      "165/165 [==============================] - 0s 296us/step - loss: 0.9136 - mae: 0.7639 - accuracy: 0.0303\n",
      "Epoch 51/200\n",
      "165/165 [==============================] - 0s 101us/step - loss: 0.8971 - mae: 0.7574 - accuracy: 0.0364\n",
      "Epoch 52/200\n",
      "165/165 [==============================] - 0s 98us/step - loss: 0.8861 - mae: 0.7542 - accuracy: 0.0303\n",
      "Epoch 53/200\n",
      "165/165 [==============================] - 0s 284us/step - loss: 0.8833 - mae: 0.7511 - accuracy: 0.0303\n",
      "Epoch 54/200\n",
      "165/165 [==============================] - 0s 133us/step - loss: 0.8785 - mae: 0.7502 - accuracy: 0.0364\n",
      "Epoch 55/200\n",
      "165/165 [==============================] - 0s 147us/step - loss: 0.8774 - mae: 0.7504 - accuracy: 0.0424\n",
      "Epoch 56/200\n",
      "165/165 [==============================] - 0s 321us/step - loss: 0.8642 - mae: 0.7450 - accuracy: 0.0424\n",
      "Epoch 57/200\n",
      "165/165 [==============================] - 0s 147us/step - loss: 0.8602 - mae: 0.7431 - accuracy: 0.0364\n",
      "Epoch 58/200\n",
      "165/165 [==============================] - 0s 145us/step - loss: 0.8587 - mae: 0.7410 - accuracy: 0.0364\n",
      "Epoch 59/200\n",
      "165/165 [==============================] - 0s 156us/step - loss: 0.8497 - mae: 0.7363 - accuracy: 0.0424\n",
      "Epoch 60/200\n",
      "165/165 [==============================] - 0s 157us/step - loss: 0.8450 - mae: 0.7348 - accuracy: 0.0485\n",
      "Epoch 61/200\n",
      "165/165 [==============================] - 0s 296us/step - loss: 0.8383 - mae: 0.7317 - accuracy: 0.0485\n",
      "Epoch 62/200\n",
      "165/165 [==============================] - 0s 141us/step - loss: 0.8318 - mae: 0.7285 - accuracy: 0.0485\n",
      "Epoch 63/200\n",
      "165/165 [==============================] - 0s 168us/step - loss: 0.8265 - mae: 0.7261 - accuracy: 0.0424\n",
      "Epoch 64/200\n",
      "165/165 [==============================] - 0s 294us/step - loss: 0.8197 - mae: 0.7244 - accuracy: 0.0424\n",
      "Epoch 65/200\n",
      "165/165 [==============================] - 0s 157us/step - loss: 0.8152 - mae: 0.7235 - accuracy: 0.0424\n",
      "Epoch 66/200\n",
      "165/165 [==============================] - 0s 326us/step - loss: 0.8049 - mae: 0.7174 - accuracy: 0.0424\n",
      "Epoch 67/200\n",
      "165/165 [==============================] - 0s 161us/step - loss: 0.8004 - mae: 0.7144 - accuracy: 0.0424\n",
      "Epoch 68/200\n",
      "165/165 [==============================] - 0s 146us/step - loss: 0.7985 - mae: 0.7118 - accuracy: 0.0485\n",
      "Epoch 69/200\n"
     ]
    },
    {
     "name": "stdout",
     "output_type": "stream",
     "text": [
      "165/165 [==============================] - 0s 159us/step - loss: 0.7884 - mae: 0.7074 - accuracy: 0.0485\n",
      "Epoch 70/200\n",
      "165/165 [==============================] - 0s 157us/step - loss: 0.7872 - mae: 0.7059 - accuracy: 0.0485\n",
      "Epoch 71/200\n",
      "165/165 [==============================] - 0s 305us/step - loss: 0.7833 - mae: 0.7024 - accuracy: 0.0485\n",
      "Epoch 72/200\n",
      "165/165 [==============================] - 0s 136us/step - loss: 0.7733 - mae: 0.6986 - accuracy: 0.0485\n",
      "Epoch 73/200\n",
      "165/165 [==============================] - 0s 348us/step - loss: 0.7676 - mae: 0.6964 - accuracy: 0.0485\n",
      "Epoch 74/200\n",
      "165/165 [==============================] - 0s 167us/step - loss: 0.7631 - mae: 0.6946 - accuracy: 0.0485\n",
      "Epoch 75/200\n",
      "165/165 [==============================] - 0s 144us/step - loss: 0.7652 - mae: 0.6938 - accuracy: 0.0485\n",
      "Epoch 76/200\n",
      "165/165 [==============================] - 0s 310us/step - loss: 0.7544 - mae: 0.6906 - accuracy: 0.0485\n",
      "Epoch 77/200\n",
      "165/165 [==============================] - 0s 145us/step - loss: 0.7529 - mae: 0.6901 - accuracy: 0.0424\n",
      "Epoch 78/200\n",
      "165/165 [==============================] - 0s 316us/step - loss: 0.7420 - mae: 0.6837 - accuracy: 0.0424\n",
      "Epoch 79/200\n",
      "165/165 [==============================] - 0s 155us/step - loss: 0.7357 - mae: 0.6795 - accuracy: 0.0424\n",
      "Epoch 80/200\n",
      "165/165 [==============================] - 0s 147us/step - loss: 0.7358 - mae: 0.6767 - accuracy: 0.0424\n",
      "Epoch 81/200\n",
      "165/165 [==============================] - 0s 282us/step - loss: 0.7313 - mae: 0.6761 - accuracy: 0.0424\n",
      "Epoch 82/200\n",
      "165/165 [==============================] - 0s 106us/step - loss: 0.7247 - mae: 0.6751 - accuracy: 0.0424\n",
      "Epoch 83/200\n",
      "165/165 [==============================] - 0s 103us/step - loss: 0.7107 - mae: 0.6700 - accuracy: 0.0424\n",
      "Epoch 84/200\n",
      "165/165 [==============================] - 0s 270us/step - loss: 0.7023 - mae: 0.6649 - accuracy: 0.0485\n",
      "Epoch 85/200\n",
      "165/165 [==============================] - 0s 111us/step - loss: 0.6926 - mae: 0.6614 - accuracy: 0.0424\n",
      "Epoch 86/200\n",
      "165/165 [==============================] - 0s 100us/step - loss: 0.7068 - mae: 0.6663 - accuracy: 0.0424\n",
      "Epoch 87/200\n",
      "165/165 [==============================] - 0s 99us/step - loss: 0.7035 - mae: 0.6642 - accuracy: 0.0424\n",
      "Epoch 88/200\n",
      "165/165 [==============================] - 0s 282us/step - loss: 0.6852 - mae: 0.6583 - accuracy: 0.0424\n",
      "Epoch 89/200\n",
      "165/165 [==============================] - 0s 103us/step - loss: 0.6783 - mae: 0.6554 - accuracy: 0.0424\n",
      "Epoch 90/200\n",
      "165/165 [==============================] - 0s 100us/step - loss: 0.6774 - mae: 0.6560 - accuracy: 0.0424\n",
      "Epoch 91/200\n",
      "165/165 [==============================] - 0s 296us/step - loss: 0.6777 - mae: 0.6566 - accuracy: 0.0424\n",
      "Epoch 92/200\n",
      "165/165 [==============================] - 0s 105us/step - loss: 0.6662 - mae: 0.6497 - accuracy: 0.0424\n",
      "Epoch 93/200\n",
      "165/165 [==============================] - 0s 110us/step - loss: 0.6595 - mae: 0.6460 - accuracy: 0.0424\n",
      "Epoch 94/200\n",
      "165/165 [==============================] - 0s 99us/step - loss: 0.6616 - mae: 0.6441 - accuracy: 0.0424\n",
      "Epoch 95/200\n",
      "165/165 [==============================] - 0s 246us/step - loss: 0.6610 - mae: 0.6451 - accuracy: 0.0424\n",
      "Epoch 96/200\n",
      "165/165 [==============================] - 0s 96us/step - loss: 0.6513 - mae: 0.6423 - accuracy: 0.0424\n",
      "Epoch 97/200\n",
      "165/165 [==============================] - 0s 107us/step - loss: 0.6447 - mae: 0.6383 - accuracy: 0.0424\n",
      "Epoch 98/200\n",
      "165/165 [==============================] - 0s 345us/step - loss: 0.6434 - mae: 0.6387 - accuracy: 0.0424\n",
      "Epoch 99/200\n",
      "165/165 [==============================] - 0s 108us/step - loss: 0.6404 - mae: 0.6375 - accuracy: 0.0424\n",
      "Epoch 100/200\n",
      "165/165 [==============================] - 0s 101us/step - loss: 0.6359 - mae: 0.6353 - accuracy: 0.0424\n",
      "Epoch 101/200\n",
      "165/165 [==============================] - 0s 256us/step - loss: 0.6347 - mae: 0.6350 - accuracy: 0.0485\n",
      "Epoch 102/200\n",
      "165/165 [==============================] - 0s 124us/step - loss: 0.6301 - mae: 0.6345 - accuracy: 0.0424\n",
      "Epoch 103/200\n",
      "165/165 [==============================] - 0s 91us/step - loss: 0.6288 - mae: 0.6317 - accuracy: 0.0424\n",
      "Epoch 104/200\n",
      "165/165 [==============================] - 0s 107us/step - loss: 0.6291 - mae: 0.6302 - accuracy: 0.0424\n",
      "Epoch 105/200\n",
      "165/165 [==============================] - 0s 278us/step - loss: 0.6202 - mae: 0.6254 - accuracy: 0.0424\n",
      "Epoch 106/200\n",
      "165/165 [==============================] - 0s 109us/step - loss: 0.6136 - mae: 0.6241 - accuracy: 0.0424\n",
      "Epoch 107/200\n",
      "165/165 [==============================] - 0s 115us/step - loss: 0.6079 - mae: 0.6216 - accuracy: 0.0485\n",
      "Epoch 108/200\n",
      "165/165 [==============================] - 0s 285us/step - loss: 0.6056 - mae: 0.6201 - accuracy: 0.0424\n",
      "Epoch 109/200\n",
      "165/165 [==============================] - 0s 105us/step - loss: 0.6068 - mae: 0.6208 - accuracy: 0.0424\n",
      "Epoch 110/200\n",
      "165/165 [==============================] - 0s 104us/step - loss: 0.5982 - mae: 0.6156 - accuracy: 0.0485\n",
      "Epoch 111/200\n",
      "165/165 [==============================] - 0s 101us/step - loss: 0.6048 - mae: 0.6201 - accuracy: 0.0485\n",
      "Epoch 112/200\n",
      "165/165 [==============================] - 0s 254us/step - loss: 0.6019 - mae: 0.6171 - accuracy: 0.0485\n",
      "Epoch 113/200\n",
      "165/165 [==============================] - 0s 113us/step - loss: 0.5942 - mae: 0.6137 - accuracy: 0.0485\n",
      "Epoch 114/200\n",
      "165/165 [==============================] - 0s 109us/step - loss: 0.5881 - mae: 0.6120 - accuracy: 0.0485\n",
      "Epoch 115/200\n",
      "165/165 [==============================] - 0s 288us/step - loss: 0.5850 - mae: 0.6089 - accuracy: 0.0485\n",
      "Epoch 116/200\n",
      "165/165 [==============================] - 0s 109us/step - loss: 0.5822 - mae: 0.6087 - accuracy: 0.0485\n",
      "Epoch 117/200\n",
      "165/165 [==============================] - 0s 109us/step - loss: 0.5820 - mae: 0.6076 - accuracy: 0.0485\n",
      "Epoch 118/200\n",
      "165/165 [==============================] - 0s 322us/step - loss: 0.5847 - mae: 0.6064 - accuracy: 0.0485\n",
      "Epoch 119/200\n",
      "165/165 [==============================] - 0s 112us/step - loss: 0.5828 - mae: 0.6089 - accuracy: 0.0485\n",
      "Epoch 120/200\n",
      "165/165 [==============================] - 0s 107us/step - loss: 0.5737 - mae: 0.6018 - accuracy: 0.0485\n",
      "Epoch 121/200\n",
      "165/165 [==============================] - 0s 287us/step - loss: 0.5750 - mae: 0.6029 - accuracy: 0.0545\n",
      "Epoch 122/200\n",
      "165/165 [==============================] - 0s 117us/step - loss: 0.5739 - mae: 0.6029 - accuracy: 0.0545\n",
      "Epoch 123/200\n",
      "165/165 [==============================] - 0s 117us/step - loss: 0.5903 - mae: 0.6101 - accuracy: 0.0545\n",
      "Epoch 124/200\n",
      "165/165 [==============================] - 0s 285us/step - loss: 0.5736 - mae: 0.6038 - accuracy: 0.0485\n",
      "Epoch 125/200\n",
      "165/165 [==============================] - 0s 115us/step - loss: 0.5626 - mae: 0.5973 - accuracy: 0.0485\n",
      "Epoch 126/200\n",
      "165/165 [==============================] - 0s 107us/step - loss: 0.5648 - mae: 0.6010 - accuracy: 0.0545\n",
      "Epoch 127/200\n",
      "165/165 [==============================] - 0s 320us/step - loss: 0.5722 - mae: 0.6065 - accuracy: 0.0485\n",
      "Epoch 128/200\n",
      "165/165 [==============================] - 0s 150us/step - loss: 0.5634 - mae: 0.5999 - accuracy: 0.0545\n",
      "Epoch 129/200\n",
      "165/165 [==============================] - 0s 154us/step - loss: 0.5582 - mae: 0.5962 - accuracy: 0.0485\n",
      "Epoch 130/200\n",
      "165/165 [==============================] - 0s 321us/step - loss: 0.5545 - mae: 0.5929 - accuracy: 0.0485\n",
      "Epoch 131/200\n",
      "165/165 [==============================] - 0s 156us/step - loss: 0.5522 - mae: 0.5917 - accuracy: 0.0545\n",
      "Epoch 132/200\n",
      "165/165 [==============================] - 0s 340us/step - loss: 0.5535 - mae: 0.5944 - accuracy: 0.0545\n",
      "Epoch 133/200\n",
      "165/165 [==============================] - 0s 131us/step - loss: 0.5496 - mae: 0.5911 - accuracy: 0.0545\n",
      "Epoch 134/200\n",
      "165/165 [==============================] - 0s 123us/step - loss: 0.5487 - mae: 0.5892 - accuracy: 0.0545\n",
      "Epoch 135/200\n",
      "165/165 [==============================] - 0s 293us/step - loss: 0.5472 - mae: 0.5893 - accuracy: 0.0545\n",
      "Epoch 136/200\n",
      "165/165 [==============================] - 0s 125us/step - loss: 0.5436 - mae: 0.5890 - accuracy: 0.0545\n",
      "Epoch 137/200\n",
      "165/165 [==============================] - 0s 119us/step - loss: 0.5485 - mae: 0.5921 - accuracy: 0.0545\n",
      "Epoch 138/200\n"
     ]
    },
    {
     "name": "stdout",
     "output_type": "stream",
     "text": [
      "165/165 [==============================] - 0s 287us/step - loss: 0.5460 - mae: 0.5901 - accuracy: 0.0545\n",
      "Epoch 139/200\n",
      "165/165 [==============================] - 0s 124us/step - loss: 0.5461 - mae: 0.5910 - accuracy: 0.0545\n",
      "Epoch 140/200\n",
      "165/165 [==============================] - 0s 104us/step - loss: 0.5410 - mae: 0.5863 - accuracy: 0.0545\n",
      "Epoch 141/200\n",
      "165/165 [==============================] - 0s 322us/step - loss: 0.5385 - mae: 0.5858 - accuracy: 0.0545\n",
      "Epoch 142/200\n",
      "165/165 [==============================] - 0s 127us/step - loss: 0.5368 - mae: 0.5851 - accuracy: 0.0545\n",
      "Epoch 143/200\n",
      "165/165 [==============================] - 0s 113us/step - loss: 0.5364 - mae: 0.5832 - accuracy: 0.0545\n",
      "Epoch 144/200\n",
      "165/165 [==============================] - 0s 306us/step - loss: 0.5361 - mae: 0.5829 - accuracy: 0.0545\n",
      "Epoch 145/200\n",
      "165/165 [==============================] - 0s 163us/step - loss: 0.5335 - mae: 0.5829 - accuracy: 0.0545\n",
      "Epoch 146/200\n",
      "165/165 [==============================] - 0s 316us/step - loss: 0.5343 - mae: 0.5847 - accuracy: 0.0545\n",
      "Epoch 147/200\n",
      "165/165 [==============================] - 0s 116us/step - loss: 0.5322 - mae: 0.5837 - accuracy: 0.0545\n",
      "Epoch 148/200\n",
      "165/165 [==============================] - 0s 129us/step - loss: 0.5330 - mae: 0.5818 - accuracy: 0.0545\n",
      "Epoch 149/200\n",
      "165/165 [==============================] - 0s 118us/step - loss: 0.5365 - mae: 0.5822 - accuracy: 0.0485\n",
      "Epoch 150/200\n",
      "165/165 [==============================] - 0s 135us/step - loss: 0.5322 - mae: 0.5805 - accuracy: 0.0485\n",
      "Epoch 151/200\n",
      "165/165 [==============================] - 0s 132us/step - loss: 0.5269 - mae: 0.5799 - accuracy: 0.0545\n",
      "Epoch 152/200\n",
      "165/165 [==============================] - 0s 288us/step - loss: 0.5334 - mae: 0.5857 - accuracy: 0.0485\n",
      "Epoch 153/200\n",
      "165/165 [==============================] - 0s 135us/step - loss: 0.5322 - mae: 0.5844 - accuracy: 0.0545\n",
      "Epoch 154/200\n",
      "165/165 [==============================] - 0s 137us/step - loss: 0.5294 - mae: 0.5819 - accuracy: 0.0485\n",
      "Epoch 155/200\n",
      "165/165 [==============================] - 0s 308us/step - loss: 0.5299 - mae: 0.5833 - accuracy: 0.0545\n",
      "Epoch 156/200\n",
      "165/165 [==============================] - 0s 114us/step - loss: 0.5222 - mae: 0.5753 - accuracy: 0.0545\n",
      "Epoch 157/200\n",
      "165/165 [==============================] - 0s 102us/step - loss: 0.5233 - mae: 0.5723 - accuracy: 0.0545\n",
      "Epoch 158/200\n",
      "165/165 [==============================] - 0s 103us/step - loss: 0.5246 - mae: 0.5722 - accuracy: 0.0545\n",
      "Epoch 159/200\n",
      "165/165 [==============================] - 0s 244us/step - loss: 0.5163 - mae: 0.5691 - accuracy: 0.0545\n",
      "Epoch 160/200\n",
      "165/165 [==============================] - 0s 109us/step - loss: 0.5180 - mae: 0.5790 - accuracy: 0.0485\n",
      "Epoch 161/200\n",
      "165/165 [==============================] - 0s 130us/step - loss: 0.5317 - mae: 0.5875 - accuracy: 0.0485\n",
      "Epoch 162/200\n",
      "165/165 [==============================] - 0s 265us/step - loss: 0.5145 - mae: 0.5732 - accuracy: 0.0545\n",
      "Epoch 163/200\n",
      "165/165 [==============================] - 0s 113us/step - loss: 0.5152 - mae: 0.5687 - accuracy: 0.0545\n",
      "Epoch 164/200\n",
      "165/165 [==============================] - 0s 114us/step - loss: 0.5163 - mae: 0.5715 - accuracy: 0.0545\n",
      "Epoch 165/200\n",
      "165/165 [==============================] - 0s 278us/step - loss: 0.5122 - mae: 0.5681 - accuracy: 0.0545\n",
      "Epoch 166/200\n",
      "165/165 [==============================] - 0s 108us/step - loss: 0.5105 - mae: 0.5666 - accuracy: 0.0545\n",
      "Epoch 167/200\n",
      "165/165 [==============================] - 0s 173us/step - loss: 0.5111 - mae: 0.5716 - accuracy: 0.0545\n",
      "Epoch 168/200\n",
      "165/165 [==============================] - 0s 278us/step - loss: 0.5061 - mae: 0.5671 - accuracy: 0.0545\n",
      "Epoch 169/200\n",
      "165/165 [==============================] - 0s 131us/step - loss: 0.5056 - mae: 0.5642 - accuracy: 0.0545\n",
      "Epoch 170/200\n",
      "165/165 [==============================] - 0s 87us/step - loss: 0.5093 - mae: 0.5649 - accuracy: 0.0545\n",
      "Epoch 171/200\n",
      "165/165 [==============================] - 0s 262us/step - loss: 0.5094 - mae: 0.5645 - accuracy: 0.0545\n",
      "Epoch 172/200\n",
      "165/165 [==============================] - 0s 125us/step - loss: 0.5066 - mae: 0.5631 - accuracy: 0.0545\n",
      "Epoch 173/200\n",
      "165/165 [==============================] - 0s 98us/step - loss: 0.5030 - mae: 0.5606 - accuracy: 0.0545\n",
      "Epoch 174/200\n",
      "165/165 [==============================] - 0s 103us/step - loss: 0.5039 - mae: 0.5636 - accuracy: 0.0545\n",
      "Epoch 175/200\n",
      "165/165 [==============================] - 0s 259us/step - loss: 0.5008 - mae: 0.5651 - accuracy: 0.0545\n",
      "Epoch 176/200\n",
      "165/165 [==============================] - 0s 110us/step - loss: 0.4997 - mae: 0.5658 - accuracy: 0.0545\n",
      "Epoch 177/200\n",
      "165/165 [==============================] - 0s 118us/step - loss: 0.4986 - mae: 0.5651 - accuracy: 0.0545\n",
      "Epoch 178/200\n",
      "165/165 [==============================] - 0s 288us/step - loss: 0.4969 - mae: 0.5628 - accuracy: 0.0545\n",
      "Epoch 179/200\n",
      "165/165 [==============================] - 0s 117us/step - loss: 0.4975 - mae: 0.5606 - accuracy: 0.0545\n",
      "Epoch 180/200\n",
      "165/165 [==============================] - 0s 109us/step - loss: 0.4965 - mae: 0.5581 - accuracy: 0.0545\n",
      "Epoch 181/200\n",
      "165/165 [==============================] - 0s 263us/step - loss: 0.4956 - mae: 0.5566 - accuracy: 0.0545\n",
      "Epoch 182/200\n",
      "165/165 [==============================] - 0s 112us/step - loss: 0.4938 - mae: 0.5567 - accuracy: 0.0545\n",
      "Epoch 183/200\n",
      "165/165 [==============================] - 0s 111us/step - loss: 0.4931 - mae: 0.5573 - accuracy: 0.0545\n",
      "Epoch 184/200\n",
      "165/165 [==============================] - 0s 111us/step - loss: 0.4995 - mae: 0.5621 - accuracy: 0.0485\n",
      "Epoch 185/200\n",
      "165/165 [==============================] - 0s 311us/step - loss: 0.4896 - mae: 0.5551 - accuracy: 0.0485\n",
      "Epoch 186/200\n",
      "165/165 [==============================] - 0s 113us/step - loss: 0.4933 - mae: 0.5626 - accuracy: 0.0485\n",
      "Epoch 187/200\n",
      "165/165 [==============================] - 0s 119us/step - loss: 0.4862 - mae: 0.5556 - accuracy: 0.0545\n",
      "Epoch 188/200\n",
      "165/165 [==============================] - 0s 271us/step - loss: 0.5043 - mae: 0.5574 - accuracy: 0.0545\n",
      "Epoch 189/200\n",
      "165/165 [==============================] - 0s 109us/step - loss: 0.4885 - mae: 0.5525 - accuracy: 0.0545\n",
      "Epoch 190/200\n",
      "165/165 [==============================] - 0s 124us/step - loss: 0.5002 - mae: 0.5729 - accuracy: 0.0485\n",
      "Epoch 191/200\n",
      "165/165 [==============================] - 0s 281us/step - loss: 0.5034 - mae: 0.5759 - accuracy: 0.0485\n",
      "Epoch 192/200\n",
      "165/165 [==============================] - 0s 113us/step - loss: 0.4949 - mae: 0.5623 - accuracy: 0.0545\n",
      "Epoch 193/200\n",
      "165/165 [==============================] - 0s 118us/step - loss: 0.4856 - mae: 0.5549 - accuracy: 0.0545\n",
      "Epoch 194/200\n",
      "165/165 [==============================] - 0s 311us/step - loss: 0.4873 - mae: 0.5604 - accuracy: 0.0545\n",
      "Epoch 195/200\n",
      "165/165 [==============================] - 0s 112us/step - loss: 0.4892 - mae: 0.5632 - accuracy: 0.0545\n",
      "Epoch 196/200\n",
      "165/165 [==============================] - 0s 111us/step - loss: 0.4821 - mae: 0.5551 - accuracy: 0.0545\n",
      "Epoch 197/200\n",
      "165/165 [==============================] - 0s 291us/step - loss: 0.4818 - mae: 0.5544 - accuracy: 0.0545\n",
      "Epoch 198/200\n",
      "165/165 [==============================] - 0s 125us/step - loss: 0.4796 - mae: 0.5492 - accuracy: 0.0545\n",
      "Epoch 199/200\n",
      "165/165 [==============================] - 0s 131us/step - loss: 0.4812 - mae: 0.5471 - accuracy: 0.0545\n",
      "Epoch 200/200\n",
      "165/165 [==============================] - 0s 280us/step - loss: 0.4841 - mae: 0.5479 - accuracy: 0.0545\n"
     ]
    }
   ],
   "source": [
    "results=regressor.fit(X_train,y_train)"
   ]
  },
  {
   "cell_type": "code",
   "execution_count": 10,
   "metadata": {},
   "outputs": [
    {
     "data": {
      "text/plain": [
       "(71,)"
      ]
     },
     "execution_count": 10,
     "metadata": {},
     "output_type": "execute_result"
    }
   ],
   "source": [
    "y_pred_keras= regressor.predict(X_test)\n",
    "y_pred_keras.shape"
   ]
  },
  {
   "cell_type": "code",
   "execution_count": 135,
   "metadata": {},
   "outputs": [
    {
     "data": {
      "text/plain": [
       "228    0.0\n",
       "229   -0.4\n",
       "230   -0.3\n",
       "231   -0.1\n",
       "232   -0.9\n",
       "233   -2.7\n",
       "234   -1.1\n",
       "235   -0.1\n",
       "Name: Urals NWE, dtype: float64"
      ]
     },
     "execution_count": 135,
     "metadata": {},
     "output_type": "execute_result"
    }
   ],
   "source": [
    "yy= combi[\"Urals NWE\"].iloc[-8:]\n",
    "yy"
   ]
  },
  {
   "cell_type": "code",
   "execution_count": 14,
   "metadata": {},
   "outputs": [
    {
     "data": {
      "text/plain": [
       "(-4, 0.5)"
      ]
     },
     "execution_count": 14,
     "metadata": {},
     "output_type": "execute_result"
    },
    {
     "data": {
      "image/png": "[encoded data removed]",
      "text/plain": [
       "<Figure size 600x400 with 1 Axes>"
      ]
     },
     "metadata": {
      "needs_background": "light"
     },
     "output_type": "display_data"
    }
   ],
   "source": [
    "plt.scatter(y_pred_keras,combi[\"Urals NWE\"].iloc[165:])\n",
    "plt.scatter(y_pred,combi[\"Urals NWE\"].iloc[165:])\n",
    "plt.xlim([-4, 0.5])\n",
    "plt.ylim([-4, 0.5])"
   ]
  },
  {
   "cell_type": "code",
   "execution_count": 13,
   "metadata": {},
   "outputs": [
    {
     "data": {
      "text/plain": [
       "<matplotlib.legend.Legend at 0x7fe6e408f898>"
      ]
     },
     "execution_count": 13,
     "metadata": {},
     "output_type": "execute_result"
    },
    {
     "data": {
      "image/png": "[encoded data removed]",
      "text/plain": [
       "<Figure size 600x400 with 1 Axes>"
      ]
     },
     "metadata": {
      "needs_background": "light"
     },
     "output_type": "display_data"
    }
   ],
   "source": [
    "plt.scatter(combi[\"FO 3.5%\"].iloc[165:],combi[\"Urals NWE\"].iloc[165:])\n",
    "plt.scatter(combi[\"FO 3.5%\"].iloc[165:],y_pred_keras)\n",
    "plt.scatter(combi[\"FO 3.5%\"].iloc[165:],y_pred)\n",
    "plt.legend((\"Actual\", \"Neural Network\",\"Random Forest\"))"
   ]
  },
  {
   "cell_type": "code",
   "execution_count": 12,
   "metadata": {},
   "outputs": [
    {
     "data": {
      "image/png": "[encoded data removed]",
      "text/plain": [
       "<Figure size 600x400 with 1 Axes>"
      ]
     },
     "metadata": {
      "needs_background": "light"
     },
     "output_type": "display_data"
    }
   ],
   "source": [
    "fig, ax = plt.subplots()\n",
    "ax.scatter(y_test, y_pred)\n",
    "ax.plot([y_test.min(), y_test.max()], [y_test.min(), y_test.max()], 'k--', lw=4)\n",
    "plt.xlim([-6,1])\n",
    "plt.ylim([-6,1])\n",
    "ax.set_xlabel('Measured')\n",
    "ax.set_ylabel('Predicted')\n",
    "plt.show()"
   ]
  },
  {
   "cell_type": "code",
   "execution_count": 11,
   "metadata": {},
   "outputs": [
    {
     "data": {
      "image/png": "[encoded data removed]",
      "text/plain": [
       "<Figure size 600x400 with 1 Axes>"
      ]
     },
     "metadata": {
      "needs_background": "light"
     },
     "output_type": "display_data"
    },
    {
     "name": "stdout",
     "output_type": "stream",
     "text": [
      "Mean squared error: 0.21\n",
      "Feature ranking:\n",
      "Feature Dated Brent (0.174638)\n",
      "Feature Gasoil (0.104694)\n",
      "Feature FO 3.5% (0.720668)\n"
     ]
    },
    {
     "data": {
      "image/png": "[encoded data removed]",
      "text/plain": [
       "<Figure size 800x600 with 1 Axes>"
      ]
     },
     "metadata": {
      "needs_background": "light"
     },
     "output_type": "display_data"
    }
   ],
   "source": [
    "from sklearn.ensemble import RandomForestRegressor\n",
    "train_combi = combi.iloc[:164]\n",
    "test_combi = combi.iloc[165:]\n",
    "\n",
    "plt.rcParams['figure.dpi'] = 100\n",
    "\n",
    "#x_train=train_combi.drop(\"Oman\",axis=1)\n",
    "#x_train=train_combi[train_combi.columns.difference([\"Dated Brent\",\"Propane\",\"Butane\",\"Gasoline\",\"Jet\",\"Gasoil\"\n",
    "#                                                   ,\"FO 1%\",\"ULSD\",\"NAphtha\",\"Butane\",\"FO 3.5%\",\"VGO 0.5%\",\"FO 0.5%\"\n",
    "#                                                    ,\"VGO 2%\"])]\n",
    "x_train=train_combi[[\"Dated Brent\",\"Gasoil\",\"FO 3.5%\"]]\n",
    "y_train=train_combi[\"Urals NWE\"]\n",
    "\n",
    "#df.drop('b', axis=1)\n",
    "\n",
    "#x_test=train_combi.drop(\"Oman\",axis=1)\n",
    "#x_test=test_combi[test_combi.columns.difference([\"Dated Brent\",\"Propane\",\"Butane\",\"Gasoline\",\"Jet\",\"Gasoil\"\n",
    "#                                                  ,\"FO 1%\",\"ULSD\",\"NAphtha\",\"Butane\",\"FO 3.5%\",\"VGO 0.5%\",\"FO 0.5%\"\n",
    "#                                                    ,\"VGO 2%\"])]\n",
    "x_test=test_combi[[\"Dated Brent\",\"Gasoil\",\"FO 3.5%\"]]\n",
    "y_test=test_combi[\"Urals NWE\"].to_frame()\n",
    "\n",
    "\n",
    "\n",
    "regressor = RandomForestRegressor(n_estimators=200, max_depth=5)\n",
    "\n",
    "clf=regressor.fit(x_train, y_train)\n",
    "\n",
    "y_pred=regressor.predict(x_test)\n",
    "y_pred=pd.DataFrame(y_pred)\n",
    "\n",
    "\n",
    "plt_train=plt.scatter(x_train[\"FO 3.5%\"],y_train,   color='grey')\n",
    "plt_test=plt.scatter(x_test[\"FO 3.5%\"],y_test,   color='green')\n",
    "plt_pred=plt.scatter(x_test[\"FO 3.5%\"], y_pred,  color='black')\n",
    "\n",
    "\n",
    "\n",
    "plt.xlabel(\"FO 3.5%\")\n",
    "plt.ylabel(\"Urals NWE\")\n",
    "plt.legend((plt_train, plt_test,plt_pred),(\"train data\", \"test data\",\"prediction\"))\n",
    "plt.show()\n",
    "\n",
    "print(\"Mean squared error: %.2f\"\n",
    "      % np.mean((regressor.predict(x_train) - y_train) ** 2))\n",
    "\n",
    "import seaborn as sns\n",
    "importances=regressor.feature_importances_\n",
    "\n",
    "indices=list(x_train)\n",
    "print(\"Feature ranking:\")\n",
    "\n",
    "for f in range(x_train.shape[1]):\n",
    "    print(\"Feature %s (%f)\" % (indices[f], importances[f]))\n",
    "\n",
    "f, (ax1) = plt.subplots(1, 1, figsize=(8, 6), sharex=True)\n",
    "sns.barplot(indices, importances, palette=\"BrBG\", ax=ax1)\n",
    "ax1.set_ylabel(\"Importance\")\n",
    "\n",
    "ax1.set_xticklabels(\n",
    "    ax1.get_xticklabels(),\n",
    "    rotation=45,\n",
    "    horizontalalignment='right'\n",
    ");\n",
    "\n"
   ]
  },
  {
   "cell_type": "code",
   "execution_count": null,
   "metadata": {},
   "outputs": [],
   "source": []
  },
  {
   "cell_type": "code",
   "execution_count": null,
   "metadata": {},
   "outputs": [],
   "source": []
  }
 ],
 "metadata": {
  "kernelspec": {
   "display_name": "Python 3",
   "language": "python",
   "name": "python3"
  },
  "language_info": {
   "codemirror_mode": {
    "name": "ipython",
    "version": 3
   },
   "file_extension": ".py",
   "mimetype": "text/x-python",
   "name": "python",
   "nbconvert_exporter": "python",
   "pygments_lexer": "ipython3",
   "version": "3.7.3"
  }
 },
 "nbformat": 4,
 "nbformat_minor": 2
}
