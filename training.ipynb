{
 "cells": [
  {
   "cell_type": "code",
   "execution_count": 2,
   "metadata": {},
   "outputs": [
    {
     "name": "stdout",
     "output_type": "stream",
     "text": [
      "           Date  Dated Brent  Bonny light  Mars   WTI  Maya Europe  Maya USGC  \\\n",
      "0    01.01.2000         25.5          0.0   0.0   0.0          0.0        0.0   \n",
      "1    01.02.2000         27.9          0.0   0.0   0.0          0.0        0.0   \n",
      "2    01.03.2000         27.3          0.0   0.0   0.0          0.0        0.0   \n",
      "3    01.04.2000         22.6          0.0   0.0   0.0          0.0        0.0   \n",
      "4    01.05.2000         27.6          0.0   0.0   0.0          0.0        0.0   \n",
      "..          ...          ...          ...   ...   ...          ...        ...   \n",
      "231  01.04.2019         71.3          1.4  -2.3  -7.4         -9.8       -6.5   \n",
      "232  01.05.2019         71.1          1.9  -4.3 -10.3        -10.1       -8.4   \n",
      "233  01.06.2019         64.1          1.7  -4.6  -9.4         -8.1       -5.2   \n",
      "234  01.07.2019         64.0          1.4  -2.0  -6.5         -6.9       -4.1   \n",
      "235  01.08.2019         59.0          1.3  -1.9  -4.2        -12.6       -8.0   \n",
      "\n",
      "     ESPO  Urals NWE  Urals MED  Dubai  \n",
      "0     0.0       -0.5       -0.5   -2.2  \n",
      "1     0.0       -0.5       -0.5   -3.2  \n",
      "2     0.0       -1.0       -1.5   -2.2  \n",
      "3     0.0       -1.0       -1.4   -0.5  \n",
      "4     0.0       -0.6       -1.2   -1.9  \n",
      "..    ...        ...        ...    ...  \n",
      "231   1.7       -0.1        0.4   -0.3  \n",
      "232   0.5       -0.9       -0.2   -1.7  \n",
      "233  -0.2       -2.7       -2.5   -2.3  \n",
      "234   2.3       -1.1       -0.5   -0.8  \n",
      "235   4.2       -0.1        1.2    0.1  \n",
      "\n",
      "[236 rows x 11 columns]\n",
      "0      0.191441\n",
      "1      0.209459\n",
      "2      0.204955\n",
      "3      0.169670\n",
      "4      0.207207\n",
      "         ...   \n",
      "231    0.535285\n",
      "232    0.533784\n",
      "233    0.481231\n",
      "234    0.480480\n",
      "235    0.442943\n",
      "Name: Dated Brent norm, Length: 236, dtype: float64\n",
      "Intercept: \n",
      " -0.5421657569506579\n",
      "Coefficients: \n",
      " [ 0.02515254 -0.01148187]\n",
      "                            OLS Regression Results                            \n",
      "==============================================================================\n",
      "Dep. Variable:            Bonny light   R-squared:                       0.615\n",
      "Model:                            OLS   Adj. R-squared:                  0.612\n",
      "Method:                 Least Squares   F-statistic:                     186.3\n",
      "Date:                Mon, 09 Sep 2019   Prob (F-statistic):           4.70e-49\n",
      "Time:                        06:54:03   Log-Likelihood:                -225.91\n",
      "No. Observations:                 236   AIC:                             457.8\n",
      "Df Residuals:                     233   BIC:                             468.2\n",
      "Df Model:                           2                                         \n",
      "Covariance Type:            nonrobust                                         \n",
      "===============================================================================\n",
      "                  coef    std err          t      P>|t|      [0.025      0.975]\n",
      "-------------------------------------------------------------------------------\n",
      "const          -0.5422      0.099     -5.461      0.000      -0.738      -0.347\n",
      "Dated Brent     0.0252      0.002     14.587      0.000       0.022       0.029\n",
      "Maya USGC      -0.0115      0.010     -1.160      0.247      -0.031       0.008\n",
      "==============================================================================\n",
      "Omnibus:                       23.797   Durbin-Watson:                   0.468\n",
      "Prob(Omnibus):                  0.000   Jarque-Bera (JB):               34.697\n",
      "Skew:                           0.634   Prob(JB):                     2.92e-08\n",
      "Kurtosis:                       4.386   Cond. No.                         173.\n",
      "==============================================================================\n",
      "\n",
      "Warnings:\n",
      "[1] Standard Errors assume that the covariance matrix of the errors is correctly specified.\n",
      "Predicted BL: \n",
      " [1.15506694]\n"
     ]
    },
    {
     "name": "stderr",
     "output_type": "stream",
     "text": [
      "/srv/conda/envs/notebook/lib/python3.7/site-packages/numpy/core/fromnumeric.py:2495: FutureWarning: Method .ptp is deprecated and will be removed in a future version. Use numpy.ptp instead.\n",
      "  return ptp(axis=axis, out=out, **kwargs)\n"
     ]
    }
   ],
   "source": [
    "import pandas as pd\n",
    "import numpy as np\n",
    "brdiff = pd.read_table('Historical marker crude prices_csv_new.csv',delimiter =';')\n",
    "\n",
    "brdiff=brdiff.fillna(0)\n",
    "print(brdiff)\n",
    "\n",
    "brdiff.dtypes\n",
    "brdiff =brdiff.iloc[:,1:11].astype(float)\n",
    "\n",
    "from sklearn.cluster import KMeans\n",
    "from sklearn.preprocessing import StandardScaler\n",
    "scaler = StandardScaler()\n",
    "\n",
    "brdiff[\"Dated Brent scaled\"] = scaler.fit_transform(brdiff[\"Dated Brent\"].to_frame())\n",
    "\n",
    "import matplotlib.pyplot as plt  \n",
    "\n",
    "from sklearn import linear_model\n",
    "import statsmodels.api as sm\n",
    "#X = df[['Interest_Rate','Unemployment_Rate']] # here we have 2 variables for multiple regression. If you just want to use one variable for simple linear regression, then use X = df['Interest_Rate'] for example.Alternatively, you may add additional variables within the brackets\n",
    "#Y = df['Stock_Index_Price']\n",
    " \n",
    "# with sklearn\n",
    "#regr = linear_model.LinearRegression()\n",
    "#regr.fit(X, Y)\n",
    "\n",
    "AbsB=brdiff[\"Dated Brent\"].max()\n",
    "brdiff[\"Dated Brent norm\"] = brdiff[\"Dated Brent\"].divide(AbsB)\n",
    "print(brdiff[\"Dated Brent norm\"])\n",
    "\n",
    "X = brdiff[['Dated Brent','Maya USGC']]\n",
    "Y = brdiff['Bonny light']\n",
    "regr = linear_model.LinearRegression()\n",
    "regr.fit(X, Y)\n",
    "print('Intercept: \\n', regr.intercept_)\n",
    "print('Coefficients: \\n', regr.coef_)\n",
    "\n",
    "X = sm.add_constant(X)\n",
    "model = sm.OLS(Y, X).fit()\n",
    "predictions = model.predict(X) \n",
    " \n",
    "print_model = model.summary()\n",
    "print(print_model)\n",
    "\n",
    "New_DB = 64.887\n",
    "New_Maya = -5.675\n",
    "print ('Predicted BL: \\n', regr.predict([[New_DB, New_Maya]]))"
   ]
  },
  {
   "cell_type": "code",
   "execution_count": 4,
   "metadata": {},
   "outputs": [
    {
     "data": {
      "application/vnd.jupyter.widget-view+json": {
       "model_id": "270d370a42dc42d1bf9176dc354a6b6b",
       "version_major": 2,
       "version_minor": 0
      },
      "text/plain": [
       "interactive(children=(IntSlider(value=80, description='db', max=150, min=10), FloatSlider(value=0.0, descripti…"
      ]
     },
     "metadata": {},
     "output_type": "display_data"
    }
   ],
   "source": [
    "from ipywidgets import interact, interactive, fixed, interact_manual\n",
    "from ipywidgets import interactive\n",
    "import matplotlib.pyplot as plt\n",
    "import numpy as np\n",
    "plt.rcParams['figure.dpi'] = 85\n",
    "\n",
    "def f(db, m):\n",
    "#def f(db):  \n",
    "    \n",
    "    fig, (ax1, ax2) = plt.subplots(1, 2)\n",
    "    x = brdiff[\"Dated Brent\"]\n",
    "    y=regr.predict([[db, m]])\n",
    "    #y=regr.predict([[db]])\n",
    "    \n",
    "    ax1.scatter(brdiff[\"Dated Brent\"],brdiff[\"Bonny light\"])\n",
    "    ax1.scatter(db,y, s=200)\n",
    "    k1= brdiff[\"Dated Brent\"]\n",
    "    k2= brdiff[\"Maya USGC\"]\n",
    "    ax2.scatter(brdiff[\"Bonny light\"], regr.intercept_+ regr.coef_[0]*k1 + regr.coef_[1]*k2 )\n",
    "    #ax2.scatter(brdiff[\"Bonny light\"], regr.intercept_+ regr.coef_[0]*k1 )\n",
    "    ax2.set_xlim([0, 4])\n",
    "    ax2.set_ylim([0, 4])\n",
    "    ax1.set_xlabel(\"Brent price\")\n",
    "    ax1.set_ylabel(\"Bonny Light diff\")\n",
    "    ax2.set_xlabel(\"Historic Bonny Light diff\")\n",
    "    ax2.set_ylabel(\"Predicted Bonny Light diff\")\n",
    "    plt.subplots_adjust(wspace = 0.4)\n",
    "    plt.show()\n",
    "    \n",
    "    \n",
    "    \n",
    "    print(\"predicted Bonny Light is\", y )\n",
    "\n",
    "#interactive_plot = interactive(f, db=(10,150,1))\n",
    "interactive_plot = interactive(f, db=(10,150,1), m=(-6, 6, 0.1))\n",
    "output = interactive_plot.children[-1]\n",
    "output.layout.height = '350px'\n",
    "interactive_plot\n"
   ]
  },
  {
   "cell_type": "code",
   "execution_count": null,
   "metadata": {},
   "outputs": [],
   "source": []
  },
  {
   "cell_type": "code",
   "execution_count": 21,
   "metadata": {},
   "outputs": [
    {
     "name": "stdout",
     "output_type": "stream",
     "text": [
      "Intercept: \n",
      " 0.02970961855660037\n",
      "Coefficients: \n",
      " [-0.00119035  0.04448432  0.03452849  0.33626056]\n",
      "                            OLS Regression Results                            \n",
      "==============================================================================\n",
      "Dep. Variable:                   Mars   R-squared:                       0.797\n",
      "Model:                            OLS   Adj. R-squared:                  0.795\n",
      "Method:                 Least Squares   F-statistic:                     540.6\n",
      "Date:                Fri, 06 Sep 2019   Prob (F-statistic):          2.69e-189\n",
      "Time:                        14:08:42   Log-Likelihood:                -826.77\n",
      "No. Observations:                 557   AIC:                             1664.\n",
      "Df Residuals:                     552   BIC:                             1685.\n",
      "Df Model:                           4                                         \n",
      "Covariance Type:            nonrobust                                         \n",
      "===============================================================================\n",
      "                  coef    std err          t      P>|t|      [0.025      0.975]\n",
      "-------------------------------------------------------------------------------\n",
      "const           0.0297      0.057      0.523      0.601      -0.082       0.141\n",
      "Dated Brent    -0.0012      0.003     -0.382      0.703      -0.007       0.005\n",
      "WTI             0.0445      0.014      3.217      0.001       0.017       0.072\n",
      "Maya Europe     0.0345      0.015      2.236      0.026       0.004       0.065\n",
      "Maya USGC       0.3363      0.017     20.020      0.000       0.303       0.369\n",
      "==============================================================================\n",
      "Omnibus:                      133.655   Durbin-Watson:                   0.775\n",
      "Prob(Omnibus):                  0.000   Jarque-Bera (JB):             3609.714\n",
      "Skew:                          -0.340   Prob(JB):                         0.00\n",
      "Kurtosis:                      15.453   Cond. No.                         59.0\n",
      "==============================================================================\n",
      "\n",
      "Warnings:\n",
      "[1] Standard Errors assume that the covariance matrix of the errors is correctly specified.\n",
      "Predicted Mars: \n",
      " [-0.45274711]\n"
     ]
    },
    {
     "name": "stderr",
     "output_type": "stream",
     "text": [
      "/srv/conda/envs/notebook/lib/python3.7/site-packages/numpy/core/fromnumeric.py:2495: FutureWarning: Method .ptp is deprecated and will be removed in a future version. Use numpy.ptp instead.\n",
      "  return ptp(axis=axis, out=out, **kwargs)\n"
     ]
    }
   ],
   "source": [
    "\n",
    "X = brdiff[['Dated Brent','WTI','Maya Europe','Maya USGC']]\n",
    "Y = brdiff['Mars']\n",
    "regr = linear_model.LinearRegression()\n",
    "regr.fit(X, Y)\n",
    "print('Intercept: \\n', regr.intercept_)\n",
    "print('Coefficients: \\n', regr.coef_)\n",
    "\n",
    "X = sm.add_constant(X)\n",
    "model = sm.OLS(Y, X).fit()\n",
    "predictions = model.predict(X) \n",
    " \n",
    "print_model = model.summary()\n",
    "print(print_model)\n",
    "\n",
    "New_DB = 64.887\n",
    "New_WTI = -7.81\n",
    "New_UralsNWE = -0.7\n",
    "New_UralsMED = -0.1\n",
    "print ('Predicted Mars: \\n', regr.predict([[New_DB, New_WTI,New_UralsNWE,New_UralsMED ]]))"
   ]
  },
  {
   "cell_type": "code",
   "execution_count": null,
   "metadata": {},
   "outputs": [],
   "source": []
  },
  {
   "cell_type": "code",
   "execution_count": 16,
   "metadata": {},
   "outputs": [
    {
     "name": "stdout",
     "output_type": "stream",
     "text": [
      "Intercept: \n",
      " -0.012820990002678556\n",
      "Coefficients: \n",
      " [-0.05070885]\n",
      "                            OLS Regression Results                            \n",
      "==============================================================================\n",
      "Dep. Variable:                   Mars   R-squared:                       0.644\n",
      "Model:                            OLS   Adj. R-squared:                  0.644\n",
      "Method:                 Least Squares   F-statistic:                     1005.\n",
      "Date:                Fri, 06 Sep 2019   Prob (F-statistic):          1.22e-126\n",
      "Time:                        14:04:13   Log-Likelihood:                -982.56\n",
      "No. Observations:                 557   AIC:                             1969.\n",
      "Df Residuals:                     555   BIC:                             1978.\n",
      "Df Model:                           1                                         \n",
      "Covariance Type:            nonrobust                                         \n",
      "===============================================================================\n",
      "                  coef    std err          t      P>|t|      [0.025      0.975]\n",
      "-------------------------------------------------------------------------------\n",
      "const          -0.0128      0.074     -0.173      0.863      -0.159       0.133\n",
      "Dated Brent    -0.0507      0.002    -31.699      0.000      -0.054      -0.048\n",
      "==============================================================================\n",
      "Omnibus:                      193.742   Durbin-Watson:                   0.376\n",
      "Prob(Omnibus):                  0.000   Jarque-Bera (JB):             1991.193\n",
      "Skew:                          -1.220   Prob(JB):                         0.00\n",
      "Kurtosis:                      11.935   Cond. No.                         57.5\n",
      "==============================================================================\n",
      "\n",
      "Warnings:\n",
      "[1] Standard Errors assume that the covariance matrix of the errors is correctly specified.\n",
      "Predicted Mars: \n",
      " [-3.30316637]\n"
     ]
    },
    {
     "name": "stderr",
     "output_type": "stream",
     "text": [
      "/srv/conda/envs/notebook/lib/python3.7/site-packages/numpy/core/fromnumeric.py:2495: FutureWarning: Method .ptp is deprecated and will be removed in a future version. Use numpy.ptp instead.\n",
      "  return ptp(axis=axis, out=out, **kwargs)\n"
     ]
    }
   ],
   "source": [
    "X = brdiff[['Dated Brent']]\n",
    "Y = brdiff['Mars']\n",
    "regr = linear_model.LinearRegression()\n",
    "regr.fit(X, Y)\n",
    "print('Intercept: \\n', regr.intercept_)\n",
    "print('Coefficients: \\n', regr.coef_)\n",
    "\n",
    "X = sm.add_constant(X)\n",
    "model = sm.OLS(Y, X).fit()\n",
    "predictions = model.predict(X) \n",
    " \n",
    "print_model = model.summary()\n",
    "print(print_model)\n",
    "\n",
    "New_DB = 64.887\n",
    "New_WTI = -7.81\n",
    "New_UralsNWE = -0.7\n",
    "New_UralsMED = -0.1\n",
    "print ('Predicted Mars: \\n', regr.predict([[New_DB ]]))"
   ]
  },
  {
   "cell_type": "code",
   "execution_count": 26,
   "metadata": {},
   "outputs": [
    {
     "data": {
      "application/vnd.jupyter.widget-view+json": {
       "model_id": "6bfff66dc90b48509bfc674a8a52edc0",
       "version_major": 2,
       "version_minor": 0
      },
      "text/plain": [
       "interactive(children=(IntSlider(value=80, description='db', max=150, min=10), FloatSlider(value=0.0, descripti…"
      ]
     },
     "metadata": {},
     "output_type": "display_data"
    }
   ],
   "source": [
    "from ipywidgets import interact, interactive, fixed, interact_manual\n",
    "from ipywidgets import interactive\n",
    "import matplotlib.pyplot as plt\n",
    "import numpy as np\n",
    "plt.rcParams['figure.dpi'] = 100\n",
    "\n",
    "def f(db, m1,m2,m3):\n",
    " \n",
    "    \n",
    "    fig, (ax1, ax2) = plt.subplots(1, 2)\n",
    "    x = brdiff[\"Dated Brent\"]\n",
    "    y=regr.predict([[db, m1,m2,m3]])\n",
    "    \n",
    "    \n",
    "    ax1.scatter(brdiff[\"Dated Brent\"],brdiff[\"Mars\"])\n",
    "    ax1.scatter(db,y, s=200)\n",
    "    k1= brdiff[\"Dated Brent\"]\n",
    "    k2= brdiff[\"WTI\"]\n",
    "    k3= brdiff[\"Maya Europe\"]\n",
    "    k4= brdiff[\"Maya USGC\"]\n",
    "    \n",
    "    ax2.scatter(brdiff[\"Mars\"], regr.intercept_+ regr.coef_[0]*k1 + regr.coef_[1]*k2 + regr.coef_[2]*k3 + regr.coef_[3]*k4 )\n",
    "    ax2.set_xlim([-10, 1])\n",
    "    ax2.set_ylim([-10, 1])\n",
    "    ax1.set_xlabel(\"Brent price\")\n",
    "    ax1.set_ylabel(\"Mars diff\")\n",
    "    ax2.set_xlabel(\"Historic Mars diff\")\n",
    "    ax2.set_ylabel(\"Predicted Mars diff\")\n",
    "    plt.subplots_adjust(wspace = 0.4)\n",
    "    plt.show()\n",
    "    \n",
    "    \n",
    "    \n",
    "    print(\"predicted Mars is\", y )\n",
    "\n",
    "\n",
    "interactive_plot = interactive(f, db=(10,150,1), m1=(-10, 10, 0.1), m2=(-10, 10, 0.1), m3=(-6, 6, 0.1) )\n",
    "output = interactive_plot.children[-1]\n",
    "output.layout.height = '450px'\n",
    "interactive_plot"
   ]
  },
  {
   "cell_type": "code",
   "execution_count": 24,
   "metadata": {
    "scrolled": false
   },
   "outputs": [
    {
     "data": {
      "application/vnd.jupyter.widget-view+json": {
       "model_id": "bd1ec06af62e4824a7f746994d6037bc",
       "version_major": 2,
       "version_minor": 0
      },
      "text/plain": [
       "interactive(children=(IntSlider(value=80, description='db', max=150, min=10), Output(layout=Layout(height='450…"
      ]
     },
     "metadata": {},
     "output_type": "display_data"
    },
    {
     "data": {
      "image/png": "[encoded data removed]",
      "text/plain": [
       "<Figure size 600x400 with 2 Axes>"
      ]
     },
     "metadata": {
      "needs_background": "light"
     },
     "output_type": "display_data"
    }
   ],
   "source": [
    "from ipywidgets import interact, interactive, fixed, interact_manual\n",
    "from ipywidgets import interactive\n",
    "import matplotlib.pyplot as plt\n",
    "import numpy as np\n",
    "plt.rcParams['figure.dpi'] = 100\n",
    "\n",
    "def f(db):\n",
    " \n",
    "    \n",
    "    fig, (ax1, ax2) = plt.subplots(1, 2)\n",
    "    x = brdiff[\"Dated Brent\"]\n",
    "    y=regr.predict([[db]])\n",
    "    \n",
    "    \n",
    "    ax1.scatter(brdiff[\"Dated Brent\"],brdiff[\"Mars\"])\n",
    "    ax1.scatter(db,y, s=200)\n",
    "    k1= brdiff[\"Dated Brent\"]\n",
    "\n",
    "    ax2.scatter(brdiff[\"Mars\"], regr.intercept_+ regr.coef_[0]*k1 )\n",
    "    ax2.set_xlim([-10, 1])\n",
    "    ax2.set_ylim([-10, 1])\n",
    "    ax1.set_xlabel(\"Brent price\")\n",
    "    ax1.set_ylabel(\"Mars diff\")\n",
    "    ax2.set_xlabel(\"Historic Mars diff\")\n",
    "    ax2.set_ylabel(\"Predicted Mars diff\")\n",
    "    plt.subplots_adjust(wspace = 0.4)\n",
    "    plt.show()\n",
    "    \n",
    "    \n",
    "    \n",
    "    print(\"predicted Mars is\", y )\n",
    "\n",
    "\n",
    "interactive_plot = interactive(f, db=(10,150,1))\n",
    "output = interactive_plot.children[-1]\n",
    "output.layout.height = '450px'\n",
    "interactive_plot"
   ]
  },
  {
   "cell_type": "code",
   "execution_count": null,
   "metadata": {},
   "outputs": [],
   "source": []
  },
  {
   "cell_type": "code",
   "execution_count": 2,
   "metadata": {},
   "outputs": [
    {
     "name": "stdout",
     "output_type": "stream",
     "text": [
      "Intercept: \n",
      " -7.126254813795303\n",
      "Coefficients: \n",
      " [-0.03086658  0.45521668]\n",
      "                            OLS Regression Results                            \n",
      "==============================================================================\n",
      "Dep. Variable:            Maya Europe   R-squared:                       0.070\n",
      "Model:                            OLS   Adj. R-squared:                  0.057\n",
      "Method:                 Least Squares   F-statistic:                     5.500\n",
      "Date:                Fri, 06 Sep 2019   Prob (F-statistic):            0.00497\n",
      "Time:                        08:34:49   Log-Likelihood:                -418.03\n",
      "No. Observations:                 150   AIC:                             842.1\n",
      "Df Residuals:                     147   BIC:                             851.1\n",
      "Df Model:                           2                                         \n",
      "Covariance Type:            nonrobust                                         \n",
      "===============================================================================\n",
      "                  coef    std err          t      P>|t|      [0.025      0.975]\n",
      "-------------------------------------------------------------------------------\n",
      "const          -7.1263      1.052     -6.773      0.000      -9.206      -5.047\n",
      "Dated Brent    -0.0309      0.013     -2.336      0.021      -0.057      -0.005\n",
      "Urals MED       0.4552      0.303      1.504      0.135      -0.143       1.054\n",
      "==============================================================================\n",
      "Omnibus:                       12.879   Durbin-Watson:                   0.255\n",
      "Prob(Omnibus):                  0.002   Jarque-Bera (JB):               14.151\n",
      "Skew:                           0.623   Prob(JB):                     0.000845\n",
      "Kurtosis:                       3.845   Cond. No.                         272.\n",
      "==============================================================================\n",
      "\n",
      "Warnings:\n",
      "[1] Standard Errors assume that the covariance matrix of the errors is correctly specified.\n"
     ]
    },
    {
     "name": "stderr",
     "output_type": "stream",
     "text": [
      "/srv/conda/envs/notebook/lib/python3.7/site-packages/numpy/core/fromnumeric.py:2495: FutureWarning: Method .ptp is deprecated and will be removed in a future version. Use numpy.ptp instead.\n",
      "  return ptp(axis=axis, out=out, **kwargs)\n"
     ]
    }
   ],
   "source": [
    "X = brdiff[['Dated Brent','Urals MED']].iloc[-150:]\n",
    "Y = brdiff['Maya Europe'].iloc[-150:]\n",
    "regr = linear_model.LinearRegression()\n",
    "regr.fit(X, Y)\n",
    "print('Intercept: \\n', regr.intercept_)\n",
    "print('Coefficients: \\n', regr.coef_)\n",
    "\n",
    "X = sm.add_constant(X)\n",
    "model = sm.OLS(Y, X).fit()\n",
    "predictions = model.predict(X) \n",
    " \n",
    "print_model = model.summary()\n",
    "print(print_model)\n",
    "\n"
   ]
  },
  {
   "cell_type": "code",
   "execution_count": 10,
   "metadata": {},
   "outputs": [
    {
     "data": {
      "application/vnd.jupyter.widget-view+json": {
       "model_id": "6437f14593c140268277171d3e316fdb",
       "version_major": 2,
       "version_minor": 0
      },
      "text/plain": [
       "interactive(children=(IntSlider(value=80, description='db', max=150, min=10), FloatSlider(value=0.0, descripti…"
      ]
     },
     "metadata": {},
     "output_type": "display_data"
    }
   ],
   "source": [
    "from ipywidgets import interact, interactive, fixed, interact_manual\n",
    "from ipywidgets import interactive\n",
    "import matplotlib.pyplot as plt\n",
    "import numpy as np\n",
    "plt.rcParams['figure.dpi'] = 150\n",
    "\n",
    "def f(db,ural):\n",
    " \n",
    "    \n",
    "    fig, (ax1, ax2) = plt.subplots(1, 2)\n",
    "    x = brdiff[\"Dated Brent\"]\n",
    "    y=regr.predict([[db,ural]])\n",
    "    \n",
    "    \n",
    "    ax1.scatter(brdiff[\"Dated Brent\"],brdiff[\"Maya Europe\"])\n",
    "    ax1.scatter(db,y, s=200)\n",
    "    k1= brdiff[\"Dated Brent\"]\n",
    "    k4= brdiff[\"Urals MED\"]\n",
    "    \n",
    "    ax2.scatter(brdiff[\"Maya Europe\"], regr.intercept_+ regr.coef_[0]*k1 )\n",
    "    ax2.set_xlim([-20, 1])\n",
    "    ax2.set_ylim([-20, 1])\n",
    "    ax1.set_xlabel(\"Brent price\")\n",
    "    ax1.set_ylabel(\"Maya Europe diff\")\n",
    "    ax2.set_xlabel(\"Historic Maya Europe  diff\")\n",
    "    ax2.set_ylabel(\"Predicted Maya Europe  diff\")\n",
    "    plt.subplots_adjust(wspace = 0.4)\n",
    "    plt.show()\n",
    "    \n",
    "    \n",
    "    \n",
    "    print(\"predicted Maya Europe  is\", y )\n",
    "\n",
    "\n",
    "interactive_plot = interactive(f, db=(10,150,1),ural =(-5,5,0.1))\n",
    "output = interactive_plot.children[-1]\n",
    "output.layout.height = '600px'\n",
    "interactive_plot"
   ]
  },
  {
   "cell_type": "code",
   "execution_count": null,
   "metadata": {},
   "outputs": [],
   "source": []
  },
  {
   "cell_type": "code",
   "execution_count": null,
   "metadata": {},
   "outputs": [],
   "source": []
  },
  {
   "cell_type": "code",
   "execution_count": null,
   "metadata": {},
   "outputs": [],
   "source": []
  }
 ],
 "metadata": {
  "kernelspec": {
   "display_name": "Python 3",
   "language": "python",
   "name": "python3"
  },
  "language_info": {
   "codemirror_mode": {
    "name": "ipython",
    "version": 3
   },
   "file_extension": ".py",
   "mimetype": "text/x-python",
   "name": "python",
   "nbconvert_exporter": "python",
   "pygments_lexer": "ipython3",
   "version": "3.7.3"
  }
 },
 "nbformat": 4,
 "nbformat_minor": 2
}
